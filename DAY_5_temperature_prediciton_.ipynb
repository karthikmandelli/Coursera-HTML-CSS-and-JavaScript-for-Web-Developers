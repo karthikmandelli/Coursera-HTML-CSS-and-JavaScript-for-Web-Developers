{
  "nbformat": 4,
  "nbformat_minor": 0,
  "metadata": {
    "colab": {
      "provenance": [],
      "authorship_tag": "ABX9TyMvxJrQ0dIwuvyddJozjdu/",
      "include_colab_link": true
    },
    "kernelspec": {
      "name": "python3",
      "display_name": "Python 3"
    },
    "language_info": {
      "name": "python"
    }
  },
  "cells": [
    {
      "cell_type": "markdown",
      "metadata": {
        "id": "view-in-github",
        "colab_type": "text"
      },
      "source": [
        "<a href=\"https://colab.research.google.com/github/karthikmandelli/Coursera-HTML-CSS-and-JavaScript-for-Web-Developers/blob/master/DAY_5_temperature_prediciton_.ipynb\" target=\"_parent\"><img src=\"https://colab.research.google.com/assets/colab-badge.svg\" alt=\"Open In Colab\"/></a>"
      ]
    },
    {
      "cell_type": "code",
      "execution_count": 4,
      "metadata": {
        "id": "Tr5De3cle-Q3"
      },
      "outputs": [],
      "source": [
        "import pandas as pd\n",
        "data = pd.read_csv(\"/content/SRM-DATA-FROM-JAN-1.csv\")"
      ]
    },
    {
      "cell_type": "code",
      "source": [
        "data.info()"
      ],
      "metadata": {
        "colab": {
          "base_uri": "https://localhost:8080/"
        },
        "id": "I8yKzc-vieHX",
        "outputId": "5133f922-5997-4092-b9f8-f8f9d0be2d1e"
      },
      "execution_count": 5,
      "outputs": [
        {
          "output_type": "stream",
          "name": "stdout",
          "text": [
            "<class 'pandas.core.frame.DataFrame'>\n",
            "RangeIndex: 11141 entries, 0 to 11140\n",
            "Data columns (total 9 columns):\n",
            " #   Column  Non-Null Count  Dtype  \n",
            "---  ------  --------------  -----  \n",
            " 0   Date    11141 non-null  object \n",
            " 1   LWP     11141 non-null  int64  \n",
            " 2   WS      11141 non-null  float64\n",
            " 3   WD      11141 non-null  object \n",
            " 4   RF      11141 non-null  float64\n",
            " 5   LUX     11141 non-null  float64\n",
            " 6   AirTC   11141 non-null  float64\n",
            " 7   AirHP   11141 non-null  float64\n",
            " 8   AirPP   11141 non-null  float64\n",
            "dtypes: float64(6), int64(1), object(2)\n",
            "memory usage: 783.5+ KB\n"
          ]
        }
      ]
    },
    {
      "cell_type": "code",
      "source": [
        "data.isnull().sum()"
      ],
      "metadata": {
        "colab": {
          "base_uri": "https://localhost:8080/"
        },
        "id": "ntH9x-5Sijum",
        "outputId": "4fc97a53-9a5e-4aa1-d41a-dc1d0dd9157d"
      },
      "execution_count": 6,
      "outputs": [
        {
          "output_type": "execute_result",
          "data": {
            "text/plain": [
              "Date     0\n",
              "LWP      0\n",
              "WS       0\n",
              "WD       0\n",
              "RF       0\n",
              "LUX      0\n",
              "AirTC    0\n",
              "AirHP    0\n",
              "AirPP    0\n",
              "dtype: int64"
            ]
          },
          "metadata": {},
          "execution_count": 6
        }
      ]
    },
    {
      "cell_type": "code",
      "source": [
        "data.head()"
      ],
      "metadata": {
        "colab": {
          "base_uri": "https://localhost:8080/",
          "height": 206
        },
        "id": "_7UVH7lsi4jv",
        "outputId": "808b9259-23de-49a8-f931-5828da1264d7"
      },
      "execution_count": 7,
      "outputs": [
        {
          "output_type": "execute_result",
          "data": {
            "text/plain": [
              "                     Date  LWP     WS   WD   RF  LUX  AirTC  AirHP    AirPP\n",
              "0  5/19/2023, 11:56:57 PM    1   8.64    s  0.0  0.0  29.52  81.51  1003.79\n",
              "1  5/19/2023, 11:39:50 PM    1   5.28    s  0.0  0.0  29.80  81.27  1003.99\n",
              "2  5/19/2023, 11:22:43 PM    1   7.20  wsw  0.0  0.0  29.87  82.06  1003.95\n",
              "3  5/19/2023, 11:05:34 PM    1  10.08    s  0.0  0.0  29.91  83.69  1003.93\n",
              "4  5/19/2023, 10:48:27 PM    1   3.36    s  0.0  0.0  29.84  84.67  1003.82"
            ],
            "text/html": [
              "\n",
              "  <div id=\"df-39280b27-b050-471e-ba6b-881fe431802c\">\n",
              "    <div class=\"colab-df-container\">\n",
              "      <div>\n",
              "<style scoped>\n",
              "    .dataframe tbody tr th:only-of-type {\n",
              "        vertical-align: middle;\n",
              "    }\n",
              "\n",
              "    .dataframe tbody tr th {\n",
              "        vertical-align: top;\n",
              "    }\n",
              "\n",
              "    .dataframe thead th {\n",
              "        text-align: right;\n",
              "    }\n",
              "</style>\n",
              "<table border=\"1\" class=\"dataframe\">\n",
              "  <thead>\n",
              "    <tr style=\"text-align: right;\">\n",
              "      <th></th>\n",
              "      <th>Date</th>\n",
              "      <th>LWP</th>\n",
              "      <th>WS</th>\n",
              "      <th>WD</th>\n",
              "      <th>RF</th>\n",
              "      <th>LUX</th>\n",
              "      <th>AirTC</th>\n",
              "      <th>AirHP</th>\n",
              "      <th>AirPP</th>\n",
              "    </tr>\n",
              "  </thead>\n",
              "  <tbody>\n",
              "    <tr>\n",
              "      <th>0</th>\n",
              "      <td>5/19/2023, 11:56:57 PM</td>\n",
              "      <td>1</td>\n",
              "      <td>8.64</td>\n",
              "      <td>s</td>\n",
              "      <td>0.0</td>\n",
              "      <td>0.0</td>\n",
              "      <td>29.52</td>\n",
              "      <td>81.51</td>\n",
              "      <td>1003.79</td>\n",
              "    </tr>\n",
              "    <tr>\n",
              "      <th>1</th>\n",
              "      <td>5/19/2023, 11:39:50 PM</td>\n",
              "      <td>1</td>\n",
              "      <td>5.28</td>\n",
              "      <td>s</td>\n",
              "      <td>0.0</td>\n",
              "      <td>0.0</td>\n",
              "      <td>29.80</td>\n",
              "      <td>81.27</td>\n",
              "      <td>1003.99</td>\n",
              "    </tr>\n",
              "    <tr>\n",
              "      <th>2</th>\n",
              "      <td>5/19/2023, 11:22:43 PM</td>\n",
              "      <td>1</td>\n",
              "      <td>7.20</td>\n",
              "      <td>wsw</td>\n",
              "      <td>0.0</td>\n",
              "      <td>0.0</td>\n",
              "      <td>29.87</td>\n",
              "      <td>82.06</td>\n",
              "      <td>1003.95</td>\n",
              "    </tr>\n",
              "    <tr>\n",
              "      <th>3</th>\n",
              "      <td>5/19/2023, 11:05:34 PM</td>\n",
              "      <td>1</td>\n",
              "      <td>10.08</td>\n",
              "      <td>s</td>\n",
              "      <td>0.0</td>\n",
              "      <td>0.0</td>\n",
              "      <td>29.91</td>\n",
              "      <td>83.69</td>\n",
              "      <td>1003.93</td>\n",
              "    </tr>\n",
              "    <tr>\n",
              "      <th>4</th>\n",
              "      <td>5/19/2023, 10:48:27 PM</td>\n",
              "      <td>1</td>\n",
              "      <td>3.36</td>\n",
              "      <td>s</td>\n",
              "      <td>0.0</td>\n",
              "      <td>0.0</td>\n",
              "      <td>29.84</td>\n",
              "      <td>84.67</td>\n",
              "      <td>1003.82</td>\n",
              "    </tr>\n",
              "  </tbody>\n",
              "</table>\n",
              "</div>\n",
              "      <button class=\"colab-df-convert\" onclick=\"convertToInteractive('df-39280b27-b050-471e-ba6b-881fe431802c')\"\n",
              "              title=\"Convert this dataframe to an interactive table.\"\n",
              "              style=\"display:none;\">\n",
              "        \n",
              "  <svg xmlns=\"http://www.w3.org/2000/svg\" height=\"24px\"viewBox=\"0 0 24 24\"\n",
              "       width=\"24px\">\n",
              "    <path d=\"M0 0h24v24H0V0z\" fill=\"none\"/>\n",
              "    <path d=\"M18.56 5.44l.94 2.06.94-2.06 2.06-.94-2.06-.94-.94-2.06-.94 2.06-2.06.94zm-11 1L8.5 8.5l.94-2.06 2.06-.94-2.06-.94L8.5 2.5l-.94 2.06-2.06.94zm10 10l.94 2.06.94-2.06 2.06-.94-2.06-.94-.94-2.06-.94 2.06-2.06.94z\"/><path d=\"M17.41 7.96l-1.37-1.37c-.4-.4-.92-.59-1.43-.59-.52 0-1.04.2-1.43.59L10.3 9.45l-7.72 7.72c-.78.78-.78 2.05 0 2.83L4 21.41c.39.39.9.59 1.41.59.51 0 1.02-.2 1.41-.59l7.78-7.78 2.81-2.81c.8-.78.8-2.07 0-2.86zM5.41 20L4 18.59l7.72-7.72 1.47 1.35L5.41 20z\"/>\n",
              "  </svg>\n",
              "      </button>\n",
              "      \n",
              "  <style>\n",
              "    .colab-df-container {\n",
              "      display:flex;\n",
              "      flex-wrap:wrap;\n",
              "      gap: 12px;\n",
              "    }\n",
              "\n",
              "    .colab-df-convert {\n",
              "      background-color: #E8F0FE;\n",
              "      border: none;\n",
              "      border-radius: 50%;\n",
              "      cursor: pointer;\n",
              "      display: none;\n",
              "      fill: #1967D2;\n",
              "      height: 32px;\n",
              "      padding: 0 0 0 0;\n",
              "      width: 32px;\n",
              "    }\n",
              "\n",
              "    .colab-df-convert:hover {\n",
              "      background-color: #E2EBFA;\n",
              "      box-shadow: 0px 1px 2px rgba(60, 64, 67, 0.3), 0px 1px 3px 1px rgba(60, 64, 67, 0.15);\n",
              "      fill: #174EA6;\n",
              "    }\n",
              "\n",
              "    [theme=dark] .colab-df-convert {\n",
              "      background-color: #3B4455;\n",
              "      fill: #D2E3FC;\n",
              "    }\n",
              "\n",
              "    [theme=dark] .colab-df-convert:hover {\n",
              "      background-color: #434B5C;\n",
              "      box-shadow: 0px 1px 3px 1px rgba(0, 0, 0, 0.15);\n",
              "      filter: drop-shadow(0px 1px 2px rgba(0, 0, 0, 0.3));\n",
              "      fill: #FFFFFF;\n",
              "    }\n",
              "  </style>\n",
              "\n",
              "      <script>\n",
              "        const buttonEl =\n",
              "          document.querySelector('#df-39280b27-b050-471e-ba6b-881fe431802c button.colab-df-convert');\n",
              "        buttonEl.style.display =\n",
              "          google.colab.kernel.accessAllowed ? 'block' : 'none';\n",
              "\n",
              "        async function convertToInteractive(key) {\n",
              "          const element = document.querySelector('#df-39280b27-b050-471e-ba6b-881fe431802c');\n",
              "          const dataTable =\n",
              "            await google.colab.kernel.invokeFunction('convertToInteractive',\n",
              "                                                     [key], {});\n",
              "          if (!dataTable) return;\n",
              "\n",
              "          const docLinkHtml = 'Like what you see? Visit the ' +\n",
              "            '<a target=\"_blank\" href=https://colab.research.google.com/notebooks/data_table.ipynb>data table notebook</a>'\n",
              "            + ' to learn more about interactive tables.';\n",
              "          element.innerHTML = '';\n",
              "          dataTable['output_type'] = 'display_data';\n",
              "          await google.colab.output.renderOutput(dataTable, element);\n",
              "          const docLink = document.createElement('div');\n",
              "          docLink.innerHTML = docLinkHtml;\n",
              "          element.appendChild(docLink);\n",
              "        }\n",
              "      </script>\n",
              "    </div>\n",
              "  </div>\n",
              "  "
            ]
          },
          "metadata": {},
          "execution_count": 7
        }
      ]
    },
    {
      "cell_type": "code",
      "source": [
        "from sklearn.model_selection import train_test_split\n",
        "from sklearn.linear_model import LinearRegression\n",
        "from sklearn.metrics import mean_squared_error,r2_score\n",
        "import numpy as np \n",
        "from sklearn.ensemble import RandomForestRegressor\n",
        "from datetime import datetime, timedelta"
      ],
      "metadata": {
        "id": "a5URZjE_ipkH"
      },
      "execution_count": 8,
      "outputs": []
    },
    {
      "cell_type": "code",
      "source": [
        "# Assuming you have a 'date' column and a 'temperature' column in your dataset\n",
        "data['Date'] = pd.to_datetime(data['Date'])\n",
        "data['AirTC'] = pd.to_numeric(data['AirTC'])\n"
      ],
      "metadata": {
        "id": "Cl-94mL8jPpf"
      },
      "execution_count": 9,
      "outputs": []
    },
    {
      "cell_type": "code",
      "source": [
        "data['AirPP'] = pd.to_numeric(data['AirPP'])\n",
        "data['AirHP'] = pd.to_numeric(data['AirHP'])\n"
      ],
      "metadata": {
        "id": "a9VSsDE_nKH3"
      },
      "execution_count": 10,
      "outputs": []
    },
    {
      "cell_type": "code",
      "source": [
        "X = pd.to_datetime(data['Date']).values.reshape(-1, 1)\n",
        "y = data['AirTC'].values.reshape(-1, 1)"
      ],
      "metadata": {
        "id": "xUByg8kqivuJ"
      },
      "execution_count": 11,
      "outputs": []
    },
    {
      "cell_type": "code",
      "source": [
        "# Additional Feature Engineering (example: extracting month and day of the week)\n",
        "data['month'] = data['Date'].dt.month\n",
        "data['day_of_week'] = data['Date'].dt.dayofweek\n",
        "\n",
        "X = data[['month', 'day_of_week']].values\n",
        "y = data['AirTC'].values\n"
      ],
      "metadata": {
        "id": "sIXmjRh2lUzP"
      },
      "execution_count": 12,
      "outputs": []
    },
    {
      "cell_type": "code",
      "source": [
        "X = data[['AirPP', 'AirHP']].values\n",
        "y = data['AirTC'].values"
      ],
      "metadata": {
        "id": "EAIZ47m0nD_o"
      },
      "execution_count": 13,
      "outputs": []
    },
    {
      "cell_type": "code",
      "source": [
        "# Split the data into training and testing sets\n",
        "X_train, X_test, y_train, y_test = train_test_split(X, y, test_size=0.2, random_state=42)\n",
        "\n",
        "# Step 3: Model Training\n",
        "# Step 3: Model Training\n",
        "model = RandomForestRegressor(n_estimators=100, random_state=42)\n",
        "model.fit(X_train, y_train)\n",
        "\n"
      ],
      "metadata": {
        "colab": {
          "base_uri": "https://localhost:8080/",
          "height": 74
        },
        "id": "W1XFKIC8i_D3",
        "outputId": "e93a4e25-be4a-4b74-f04e-358dd5de116f"
      },
      "execution_count": 14,
      "outputs": [
        {
          "output_type": "execute_result",
          "data": {
            "text/plain": [
              "RandomForestRegressor(random_state=42)"
            ],
            "text/html": [
              "<style>#sk-container-id-1 {color: black;background-color: white;}#sk-container-id-1 pre{padding: 0;}#sk-container-id-1 div.sk-toggleable {background-color: white;}#sk-container-id-1 label.sk-toggleable__label {cursor: pointer;display: block;width: 100%;margin-bottom: 0;padding: 0.3em;box-sizing: border-box;text-align: center;}#sk-container-id-1 label.sk-toggleable__label-arrow:before {content: \"▸\";float: left;margin-right: 0.25em;color: #696969;}#sk-container-id-1 label.sk-toggleable__label-arrow:hover:before {color: black;}#sk-container-id-1 div.sk-estimator:hover label.sk-toggleable__label-arrow:before {color: black;}#sk-container-id-1 div.sk-toggleable__content {max-height: 0;max-width: 0;overflow: hidden;text-align: left;background-color: #f0f8ff;}#sk-container-id-1 div.sk-toggleable__content pre {margin: 0.2em;color: black;border-radius: 0.25em;background-color: #f0f8ff;}#sk-container-id-1 input.sk-toggleable__control:checked~div.sk-toggleable__content {max-height: 200px;max-width: 100%;overflow: auto;}#sk-container-id-1 input.sk-toggleable__control:checked~label.sk-toggleable__label-arrow:before {content: \"▾\";}#sk-container-id-1 div.sk-estimator input.sk-toggleable__control:checked~label.sk-toggleable__label {background-color: #d4ebff;}#sk-container-id-1 div.sk-label input.sk-toggleable__control:checked~label.sk-toggleable__label {background-color: #d4ebff;}#sk-container-id-1 input.sk-hidden--visually {border: 0;clip: rect(1px 1px 1px 1px);clip: rect(1px, 1px, 1px, 1px);height: 1px;margin: -1px;overflow: hidden;padding: 0;position: absolute;width: 1px;}#sk-container-id-1 div.sk-estimator {font-family: monospace;background-color: #f0f8ff;border: 1px dotted black;border-radius: 0.25em;box-sizing: border-box;margin-bottom: 0.5em;}#sk-container-id-1 div.sk-estimator:hover {background-color: #d4ebff;}#sk-container-id-1 div.sk-parallel-item::after {content: \"\";width: 100%;border-bottom: 1px solid gray;flex-grow: 1;}#sk-container-id-1 div.sk-label:hover label.sk-toggleable__label {background-color: #d4ebff;}#sk-container-id-1 div.sk-serial::before {content: \"\";position: absolute;border-left: 1px solid gray;box-sizing: border-box;top: 0;bottom: 0;left: 50%;z-index: 0;}#sk-container-id-1 div.sk-serial {display: flex;flex-direction: column;align-items: center;background-color: white;padding-right: 0.2em;padding-left: 0.2em;position: relative;}#sk-container-id-1 div.sk-item {position: relative;z-index: 1;}#sk-container-id-1 div.sk-parallel {display: flex;align-items: stretch;justify-content: center;background-color: white;position: relative;}#sk-container-id-1 div.sk-item::before, #sk-container-id-1 div.sk-parallel-item::before {content: \"\";position: absolute;border-left: 1px solid gray;box-sizing: border-box;top: 0;bottom: 0;left: 50%;z-index: -1;}#sk-container-id-1 div.sk-parallel-item {display: flex;flex-direction: column;z-index: 1;position: relative;background-color: white;}#sk-container-id-1 div.sk-parallel-item:first-child::after {align-self: flex-end;width: 50%;}#sk-container-id-1 div.sk-parallel-item:last-child::after {align-self: flex-start;width: 50%;}#sk-container-id-1 div.sk-parallel-item:only-child::after {width: 0;}#sk-container-id-1 div.sk-dashed-wrapped {border: 1px dashed gray;margin: 0 0.4em 0.5em 0.4em;box-sizing: border-box;padding-bottom: 0.4em;background-color: white;}#sk-container-id-1 div.sk-label label {font-family: monospace;font-weight: bold;display: inline-block;line-height: 1.2em;}#sk-container-id-1 div.sk-label-container {text-align: center;}#sk-container-id-1 div.sk-container {/* jupyter's `normalize.less` sets `[hidden] { display: none; }` but bootstrap.min.css set `[hidden] { display: none !important; }` so we also need the `!important` here to be able to override the default hidden behavior on the sphinx rendered scikit-learn.org. See: https://github.com/scikit-learn/scikit-learn/issues/21755 */display: inline-block !important;position: relative;}#sk-container-id-1 div.sk-text-repr-fallback {display: none;}</style><div id=\"sk-container-id-1\" class=\"sk-top-container\"><div class=\"sk-text-repr-fallback\"><pre>RandomForestRegressor(random_state=42)</pre><b>In a Jupyter environment, please rerun this cell to show the HTML representation or trust the notebook. <br />On GitHub, the HTML representation is unable to render, please try loading this page with nbviewer.org.</b></div><div class=\"sk-container\" hidden><div class=\"sk-item\"><div class=\"sk-estimator sk-toggleable\"><input class=\"sk-toggleable__control sk-hidden--visually\" id=\"sk-estimator-id-1\" type=\"checkbox\" checked><label for=\"sk-estimator-id-1\" class=\"sk-toggleable__label sk-toggleable__label-arrow\">RandomForestRegressor</label><div class=\"sk-toggleable__content\"><pre>RandomForestRegressor(random_state=42)</pre></div></div></div></div></div>"
            ]
          },
          "metadata": {},
          "execution_count": 14
        }
      ]
    },
    {
      "cell_type": "code",
      "source": [
        "y_pred = model.predict(X_test)\n",
        "print(y_pred)\n",
        "mse = mean_squared_error(y_test, y_pred)\n",
        "print(f\"Mean Squared Error: {mse}\")"
      ],
      "metadata": {
        "colab": {
          "base_uri": "https://localhost:8080/"
        },
        "id": "CCrzGU5Rlu-Q",
        "outputId": "2c5c5e51-9337-4377-c214-76637d112d4b"
      },
      "execution_count": 15,
      "outputs": [
        {
          "output_type": "stream",
          "name": "stdout",
          "text": [
            "[34.9466 29.8326 26.2288 ... 28.379  31.687  30.7116]\n",
            "Mean Squared Error: 3.370004529192966\n"
          ]
        }
      ]
    },
    {
      "cell_type": "code",
      "source": [
        "# Step 4: Generate Dates for Next 15 Days\n",
        "last_date = data['Date'].max()\n",
        "next_15_days = [last_date + timedelta(minutes=i)  for i in range(60,80)  for _ in range(0,15)]\n",
        "\n",
        "# Step 5: Predict Temperature for Next 15 Days\n",
        "X_pred = np.array([(date.month, date.dayofweek) for date in next_15_days])\n",
        "y_pred = model.predict(X_pred)\n",
        "\n",
        "# Step 6: Create DataFrame with Predictions\n",
        "predictions = pd.DataFrame({'date': next_15_days, 'TEMPC': y_pred})\n",
        "\n",
        "# Step 7: Print Predictions\n",
        "print(predictions)"
      ],
      "metadata": {
        "colab": {
          "base_uri": "https://localhost:8080/"
        },
        "id": "fW1d8aXql6tf",
        "outputId": "aaa296d6-dc16-41f3-a007-c71d85530409"
      },
      "execution_count": 16,
      "outputs": [
        {
          "output_type": "stream",
          "name": "stdout",
          "text": [
            "                   date    TEMPC\n",
            "0   2023-05-20 00:56:57  14.8667\n",
            "1   2023-05-20 00:56:57  14.8667\n",
            "2   2023-05-20 00:56:57  14.8667\n",
            "3   2023-05-20 00:56:57  14.8667\n",
            "4   2023-05-20 00:56:57  14.8667\n",
            "..                  ...      ...\n",
            "295 2023-05-20 01:15:57  14.8667\n",
            "296 2023-05-20 01:15:57  14.8667\n",
            "297 2023-05-20 01:15:57  14.8667\n",
            "298 2023-05-20 01:15:57  14.8667\n",
            "299 2023-05-20 01:15:57  14.8667\n",
            "\n",
            "[300 rows x 2 columns]\n"
          ]
        }
      ]
    },
    {
      "cell_type": "code",
      "source": [
        "last_date = data['Date'].max()\n",
        "next_15_days = [last_date + timedelta(minutes=i)  for i in range(60, 60 * 24 * 15 + 1)]\n",
        "\n",
        "X_pred = np.array([(date.month, date.dayofweek) for date in next_15_days])\n",
        "\n",
        "#Step 5: Predict Temperature for Next 15 Days\n",
        "X_pred = np.repeat(data[['AirPP', 'AirHP']].head(1).values, len(next_15_days), axis=0)\n",
        " # Use the last recorded pressure and humidity values\n",
        "y_pred = model.predict(X_pred)\n",
        "\n",
        "# Step 6: Create DataFrame with Predictions\n",
        "predictions = pd.DataFrame({'Date': next_15_days, 'TEMPC': y_pred})\n",
        "\n",
        "# Step 7: Print Predictions\n",
        "print(predictions)"
      ],
      "metadata": {
        "colab": {
          "base_uri": "https://localhost:8080/"
        },
        "id": "MCbtwjLGornJ",
        "outputId": "74c3a4bc-997d-4560-b208-ba6953b4b861"
      },
      "execution_count": 17,
      "outputs": [
        {
          "output_type": "stream",
          "name": "stdout",
          "text": [
            "                     Date    TEMPC\n",
            "0     2023-05-20 00:56:57  28.8061\n",
            "1     2023-05-20 00:57:57  28.8061\n",
            "2     2023-05-20 00:58:57  28.8061\n",
            "3     2023-05-20 00:59:57  28.8061\n",
            "4     2023-05-20 01:00:57  28.8061\n",
            "...                   ...      ...\n",
            "21536 2023-06-03 23:52:57  28.8061\n",
            "21537 2023-06-03 23:53:57  28.8061\n",
            "21538 2023-06-03 23:54:57  28.8061\n",
            "21539 2023-06-03 23:55:57  28.8061\n",
            "21540 2023-06-03 23:56:57  28.8061\n",
            "\n",
            "[21541 rows x 2 columns]\n"
          ]
        }
      ]
    },
    {
      "cell_type": "code",
      "source": [
        "last_date = data['Date'].max()\n",
        "next_15_days = [last_date + timedelta(days=i)  for i in range(0,15)]\n",
        "timestamps = pd.date_range(start=next_15_days[0], periods=24*15, freq='60T')\n",
        "\n",
        "# Step 5: Predict Temperature for Next 15 Days\n",
        "X_pred = np.repeat(data[['AirPP', 'AirHP']].tail(1).values, len(next_15_days), axis=0)\n",
        "X_pred[:, 0] = [date.month for date in next_15_days]\n",
        "X_pred[:, 1] = [date.dayofweek for date in next_15_days]\n",
        "y_pred = model.predict(X_pred)\n",
        "\n",
        "# Step 6: Create DataFrame with Predictions\n",
        "predictions = pd.DataFrame({'date': next_15_days, 'TEMPC': y_pred})\n",
        "predictions['date'] = predictions['date'].dt.strftime('%Y-%m-%d %H:%M:%S')\n",
        "\n",
        "# Step 7: Print Predictions\n",
        "print(predictions.to_string())"
      ],
      "metadata": {
        "colab": {
          "base_uri": "https://localhost:8080/"
        },
        "id": "13CdADokttlK",
        "outputId": "aedb2218-5810-49e9-e0ef-916ecb6ed1f6"
      },
      "execution_count": 18,
      "outputs": [
        {
          "output_type": "stream",
          "name": "stdout",
          "text": [
            "                   date    TEMPC\n",
            "0   2023-05-19 23:56:57  14.8667\n",
            "1   2023-05-20 23:56:57  14.8667\n",
            "2   2023-05-21 23:56:57  14.8667\n",
            "3   2023-05-22 23:56:57  14.8667\n",
            "4   2023-05-23 23:56:57  14.8667\n",
            "5   2023-05-24 23:56:57  14.8667\n",
            "6   2023-05-25 23:56:57  14.8667\n",
            "7   2023-05-26 23:56:57  14.8667\n",
            "8   2023-05-27 23:56:57  14.8667\n",
            "9   2023-05-28 23:56:57  14.8667\n",
            "10  2023-05-29 23:56:57  14.8667\n",
            "11  2023-05-30 23:56:57  14.8667\n",
            "12  2023-05-31 23:56:57  14.8667\n",
            "13  2023-06-01 23:56:57  14.8667\n",
            "14  2023-06-02 23:56:57  14.8667\n"
          ]
        }
      ]
    },
    {
      "cell_type": "code",
      "source": [
        "y_true = data['AirTC']\n",
        "y_pred_train = model.predict(X)\n",
        "r2 = r2_score(y_true, y_pred_train)\n",
        "print(f\"R2 Score: {r2}\")"
      ],
      "metadata": {
        "colab": {
          "base_uri": "https://localhost:8080/"
        },
        "id": "LTygqIG4xn8p",
        "outputId": "72b9ba2c-7e10-422f-cff3-aed048cc0570"
      },
      "execution_count": 19,
      "outputs": [
        {
          "output_type": "stream",
          "name": "stdout",
          "text": [
            "R2 Score: 0.9877283936142249\n"
          ]
        }
      ]
    },
    {
      "cell_type": "code",
      "source": [
        "import pandas as pd\n",
        "import numpy as np\n",
        "from sklearn.ensemble import RandomForestRegressor\n",
        "from sklearn.metrics import r2_score\n",
        "from sklearn.model_selection import train_test_split\n",
        "from sklearn.preprocessing import StandardScaler\n",
        "from sklearn.pipeline import make_pipeline\n",
        "\n",
        "\n",
        "# Step 3: Split the data into training and testing sets\n",
        "X_train, X_test, y_train, y_test = train_test_split(X, y, test_size=0.2, random_state=42)\n",
        " #Step 3: Calculate average temperature for each hour\n",
        "hourly_avg_temp = data.groupby('Date')['AirTC'].mean()\n",
        "# Step 4: Create a pipeline for preprocessing and modeling\n",
        "pipeline = make_pipeline(StandardScaler(), RandomForestRegressor(n_estimators=100))\n",
        "\n",
        "# Step 5: Train the model\n",
        "pipeline.fit(X_train, y_train)\n",
        "\n",
        "# Step 6: Make predictions on the test set\n",
        "y_pred = pipeline.predict(X_test)\n",
        "\n",
        "# Step 7: Calculate the R2 score\n",
        "r2 = r2_score(y_test, y_pred)\n",
        "print(f\"R2 Score: {r2}\")\n",
        "\n",
        "# Step 8: Make predictions for the next 15 days\n",
        "X_pred = np.repeat(data[['AirPP', 'AirHP']].head(1).values, 24*15, axis=0)\n",
        "y_pred_next = pipeline.predict(X_pred)\n",
        "\n",
        "# Step 9: Create DataFrame with predictions for the next 15 days\n",
        "next_15_days = pd.date_range(start=data['Date'].max() + pd.Timedelta(days=1), periods=24*15, freq='60T')\n",
        "predictions = pd.DataFrame({'datetime': next_15_days, 'temperature': y_pred_next})\n",
        "print(predictions)\n"
      ],
      "metadata": {
        "colab": {
          "base_uri": "https://localhost:8080/"
        },
        "id": "WSeZMiCt8WhC",
        "outputId": "e67f070d-a352-43f5-df86-148c32401c56"
      },
      "execution_count": 20,
      "outputs": [
        {
          "output_type": "stream",
          "name": "stdout",
          "text": [
            "R2 Score: 0.9584029846376071\n",
            "               datetime  temperature\n",
            "0   2023-05-20 23:56:57      28.6714\n",
            "1   2023-05-21 00:56:57      28.6714\n",
            "2   2023-05-21 01:56:57      28.6714\n",
            "3   2023-05-21 02:56:57      28.6714\n",
            "4   2023-05-21 03:56:57      28.6714\n",
            "..                  ...          ...\n",
            "355 2023-06-04 18:56:57      28.6714\n",
            "356 2023-06-04 19:56:57      28.6714\n",
            "357 2023-06-04 20:56:57      28.6714\n",
            "358 2023-06-04 21:56:57      28.6714\n",
            "359 2023-06-04 22:56:57      28.6714\n",
            "\n",
            "[360 rows x 2 columns]\n"
          ]
        }
      ]
    },
    {
      "cell_type": "code",
      "source": [
        "predictions.head(50)"
      ],
      "metadata": {
        "colab": {
          "base_uri": "https://localhost:8080/",
          "height": 1000
        },
        "id": "uB3amq8k87ZR",
        "outputId": "5ae9d69a-4dcf-4a9c-e81f-2fa9d02ecef3"
      },
      "execution_count": 21,
      "outputs": [
        {
          "output_type": "execute_result",
          "data": {
            "text/plain": [
              "              datetime  temperature\n",
              "0  2023-05-20 23:56:57      28.6714\n",
              "1  2023-05-21 00:56:57      28.6714\n",
              "2  2023-05-21 01:56:57      28.6714\n",
              "3  2023-05-21 02:56:57      28.6714\n",
              "4  2023-05-21 03:56:57      28.6714\n",
              "5  2023-05-21 04:56:57      28.6714\n",
              "6  2023-05-21 05:56:57      28.6714\n",
              "7  2023-05-21 06:56:57      28.6714\n",
              "8  2023-05-21 07:56:57      28.6714\n",
              "9  2023-05-21 08:56:57      28.6714\n",
              "10 2023-05-21 09:56:57      28.6714\n",
              "11 2023-05-21 10:56:57      28.6714\n",
              "12 2023-05-21 11:56:57      28.6714\n",
              "13 2023-05-21 12:56:57      28.6714\n",
              "14 2023-05-21 13:56:57      28.6714\n",
              "15 2023-05-21 14:56:57      28.6714\n",
              "16 2023-05-21 15:56:57      28.6714\n",
              "17 2023-05-21 16:56:57      28.6714\n",
              "18 2023-05-21 17:56:57      28.6714\n",
              "19 2023-05-21 18:56:57      28.6714\n",
              "20 2023-05-21 19:56:57      28.6714\n",
              "21 2023-05-21 20:56:57      28.6714\n",
              "22 2023-05-21 21:56:57      28.6714\n",
              "23 2023-05-21 22:56:57      28.6714\n",
              "24 2023-05-21 23:56:57      28.6714\n",
              "25 2023-05-22 00:56:57      28.6714\n",
              "26 2023-05-22 01:56:57      28.6714\n",
              "27 2023-05-22 02:56:57      28.6714\n",
              "28 2023-05-22 03:56:57      28.6714\n",
              "29 2023-05-22 04:56:57      28.6714\n",
              "30 2023-05-22 05:56:57      28.6714\n",
              "31 2023-05-22 06:56:57      28.6714\n",
              "32 2023-05-22 07:56:57      28.6714\n",
              "33 2023-05-22 08:56:57      28.6714\n",
              "34 2023-05-22 09:56:57      28.6714\n",
              "35 2023-05-22 10:56:57      28.6714\n",
              "36 2023-05-22 11:56:57      28.6714\n",
              "37 2023-05-22 12:56:57      28.6714\n",
              "38 2023-05-22 13:56:57      28.6714\n",
              "39 2023-05-22 14:56:57      28.6714\n",
              "40 2023-05-22 15:56:57      28.6714\n",
              "41 2023-05-22 16:56:57      28.6714\n",
              "42 2023-05-22 17:56:57      28.6714\n",
              "43 2023-05-22 18:56:57      28.6714\n",
              "44 2023-05-22 19:56:57      28.6714\n",
              "45 2023-05-22 20:56:57      28.6714\n",
              "46 2023-05-22 21:56:57      28.6714\n",
              "47 2023-05-22 22:56:57      28.6714\n",
              "48 2023-05-22 23:56:57      28.6714\n",
              "49 2023-05-23 00:56:57      28.6714"
            ],
            "text/html": [
              "\n",
              "  <div id=\"df-0c29064b-2025-4f12-bf1d-51b025147ec3\">\n",
              "    <div class=\"colab-df-container\">\n",
              "      <div>\n",
              "<style scoped>\n",
              "    .dataframe tbody tr th:only-of-type {\n",
              "        vertical-align: middle;\n",
              "    }\n",
              "\n",
              "    .dataframe tbody tr th {\n",
              "        vertical-align: top;\n",
              "    }\n",
              "\n",
              "    .dataframe thead th {\n",
              "        text-align: right;\n",
              "    }\n",
              "</style>\n",
              "<table border=\"1\" class=\"dataframe\">\n",
              "  <thead>\n",
              "    <tr style=\"text-align: right;\">\n",
              "      <th></th>\n",
              "      <th>datetime</th>\n",
              "      <th>temperature</th>\n",
              "    </tr>\n",
              "  </thead>\n",
              "  <tbody>\n",
              "    <tr>\n",
              "      <th>0</th>\n",
              "      <td>2023-05-20 23:56:57</td>\n",
              "      <td>28.6714</td>\n",
              "    </tr>\n",
              "    <tr>\n",
              "      <th>1</th>\n",
              "      <td>2023-05-21 00:56:57</td>\n",
              "      <td>28.6714</td>\n",
              "    </tr>\n",
              "    <tr>\n",
              "      <th>2</th>\n",
              "      <td>2023-05-21 01:56:57</td>\n",
              "      <td>28.6714</td>\n",
              "    </tr>\n",
              "    <tr>\n",
              "      <th>3</th>\n",
              "      <td>2023-05-21 02:56:57</td>\n",
              "      <td>28.6714</td>\n",
              "    </tr>\n",
              "    <tr>\n",
              "      <th>4</th>\n",
              "      <td>2023-05-21 03:56:57</td>\n",
              "      <td>28.6714</td>\n",
              "    </tr>\n",
              "    <tr>\n",
              "      <th>5</th>\n",
              "      <td>2023-05-21 04:56:57</td>\n",
              "      <td>28.6714</td>\n",
              "    </tr>\n",
              "    <tr>\n",
              "      <th>6</th>\n",
              "      <td>2023-05-21 05:56:57</td>\n",
              "      <td>28.6714</td>\n",
              "    </tr>\n",
              "    <tr>\n",
              "      <th>7</th>\n",
              "      <td>2023-05-21 06:56:57</td>\n",
              "      <td>28.6714</td>\n",
              "    </tr>\n",
              "    <tr>\n",
              "      <th>8</th>\n",
              "      <td>2023-05-21 07:56:57</td>\n",
              "      <td>28.6714</td>\n",
              "    </tr>\n",
              "    <tr>\n",
              "      <th>9</th>\n",
              "      <td>2023-05-21 08:56:57</td>\n",
              "      <td>28.6714</td>\n",
              "    </tr>\n",
              "    <tr>\n",
              "      <th>10</th>\n",
              "      <td>2023-05-21 09:56:57</td>\n",
              "      <td>28.6714</td>\n",
              "    </tr>\n",
              "    <tr>\n",
              "      <th>11</th>\n",
              "      <td>2023-05-21 10:56:57</td>\n",
              "      <td>28.6714</td>\n",
              "    </tr>\n",
              "    <tr>\n",
              "      <th>12</th>\n",
              "      <td>2023-05-21 11:56:57</td>\n",
              "      <td>28.6714</td>\n",
              "    </tr>\n",
              "    <tr>\n",
              "      <th>13</th>\n",
              "      <td>2023-05-21 12:56:57</td>\n",
              "      <td>28.6714</td>\n",
              "    </tr>\n",
              "    <tr>\n",
              "      <th>14</th>\n",
              "      <td>2023-05-21 13:56:57</td>\n",
              "      <td>28.6714</td>\n",
              "    </tr>\n",
              "    <tr>\n",
              "      <th>15</th>\n",
              "      <td>2023-05-21 14:56:57</td>\n",
              "      <td>28.6714</td>\n",
              "    </tr>\n",
              "    <tr>\n",
              "      <th>16</th>\n",
              "      <td>2023-05-21 15:56:57</td>\n",
              "      <td>28.6714</td>\n",
              "    </tr>\n",
              "    <tr>\n",
              "      <th>17</th>\n",
              "      <td>2023-05-21 16:56:57</td>\n",
              "      <td>28.6714</td>\n",
              "    </tr>\n",
              "    <tr>\n",
              "      <th>18</th>\n",
              "      <td>2023-05-21 17:56:57</td>\n",
              "      <td>28.6714</td>\n",
              "    </tr>\n",
              "    <tr>\n",
              "      <th>19</th>\n",
              "      <td>2023-05-21 18:56:57</td>\n",
              "      <td>28.6714</td>\n",
              "    </tr>\n",
              "    <tr>\n",
              "      <th>20</th>\n",
              "      <td>2023-05-21 19:56:57</td>\n",
              "      <td>28.6714</td>\n",
              "    </tr>\n",
              "    <tr>\n",
              "      <th>21</th>\n",
              "      <td>2023-05-21 20:56:57</td>\n",
              "      <td>28.6714</td>\n",
              "    </tr>\n",
              "    <tr>\n",
              "      <th>22</th>\n",
              "      <td>2023-05-21 21:56:57</td>\n",
              "      <td>28.6714</td>\n",
              "    </tr>\n",
              "    <tr>\n",
              "      <th>23</th>\n",
              "      <td>2023-05-21 22:56:57</td>\n",
              "      <td>28.6714</td>\n",
              "    </tr>\n",
              "    <tr>\n",
              "      <th>24</th>\n",
              "      <td>2023-05-21 23:56:57</td>\n",
              "      <td>28.6714</td>\n",
              "    </tr>\n",
              "    <tr>\n",
              "      <th>25</th>\n",
              "      <td>2023-05-22 00:56:57</td>\n",
              "      <td>28.6714</td>\n",
              "    </tr>\n",
              "    <tr>\n",
              "      <th>26</th>\n",
              "      <td>2023-05-22 01:56:57</td>\n",
              "      <td>28.6714</td>\n",
              "    </tr>\n",
              "    <tr>\n",
              "      <th>27</th>\n",
              "      <td>2023-05-22 02:56:57</td>\n",
              "      <td>28.6714</td>\n",
              "    </tr>\n",
              "    <tr>\n",
              "      <th>28</th>\n",
              "      <td>2023-05-22 03:56:57</td>\n",
              "      <td>28.6714</td>\n",
              "    </tr>\n",
              "    <tr>\n",
              "      <th>29</th>\n",
              "      <td>2023-05-22 04:56:57</td>\n",
              "      <td>28.6714</td>\n",
              "    </tr>\n",
              "    <tr>\n",
              "      <th>30</th>\n",
              "      <td>2023-05-22 05:56:57</td>\n",
              "      <td>28.6714</td>\n",
              "    </tr>\n",
              "    <tr>\n",
              "      <th>31</th>\n",
              "      <td>2023-05-22 06:56:57</td>\n",
              "      <td>28.6714</td>\n",
              "    </tr>\n",
              "    <tr>\n",
              "      <th>32</th>\n",
              "      <td>2023-05-22 07:56:57</td>\n",
              "      <td>28.6714</td>\n",
              "    </tr>\n",
              "    <tr>\n",
              "      <th>33</th>\n",
              "      <td>2023-05-22 08:56:57</td>\n",
              "      <td>28.6714</td>\n",
              "    </tr>\n",
              "    <tr>\n",
              "      <th>34</th>\n",
              "      <td>2023-05-22 09:56:57</td>\n",
              "      <td>28.6714</td>\n",
              "    </tr>\n",
              "    <tr>\n",
              "      <th>35</th>\n",
              "      <td>2023-05-22 10:56:57</td>\n",
              "      <td>28.6714</td>\n",
              "    </tr>\n",
              "    <tr>\n",
              "      <th>36</th>\n",
              "      <td>2023-05-22 11:56:57</td>\n",
              "      <td>28.6714</td>\n",
              "    </tr>\n",
              "    <tr>\n",
              "      <th>37</th>\n",
              "      <td>2023-05-22 12:56:57</td>\n",
              "      <td>28.6714</td>\n",
              "    </tr>\n",
              "    <tr>\n",
              "      <th>38</th>\n",
              "      <td>2023-05-22 13:56:57</td>\n",
              "      <td>28.6714</td>\n",
              "    </tr>\n",
              "    <tr>\n",
              "      <th>39</th>\n",
              "      <td>2023-05-22 14:56:57</td>\n",
              "      <td>28.6714</td>\n",
              "    </tr>\n",
              "    <tr>\n",
              "      <th>40</th>\n",
              "      <td>2023-05-22 15:56:57</td>\n",
              "      <td>28.6714</td>\n",
              "    </tr>\n",
              "    <tr>\n",
              "      <th>41</th>\n",
              "      <td>2023-05-22 16:56:57</td>\n",
              "      <td>28.6714</td>\n",
              "    </tr>\n",
              "    <tr>\n",
              "      <th>42</th>\n",
              "      <td>2023-05-22 17:56:57</td>\n",
              "      <td>28.6714</td>\n",
              "    </tr>\n",
              "    <tr>\n",
              "      <th>43</th>\n",
              "      <td>2023-05-22 18:56:57</td>\n",
              "      <td>28.6714</td>\n",
              "    </tr>\n",
              "    <tr>\n",
              "      <th>44</th>\n",
              "      <td>2023-05-22 19:56:57</td>\n",
              "      <td>28.6714</td>\n",
              "    </tr>\n",
              "    <tr>\n",
              "      <th>45</th>\n",
              "      <td>2023-05-22 20:56:57</td>\n",
              "      <td>28.6714</td>\n",
              "    </tr>\n",
              "    <tr>\n",
              "      <th>46</th>\n",
              "      <td>2023-05-22 21:56:57</td>\n",
              "      <td>28.6714</td>\n",
              "    </tr>\n",
              "    <tr>\n",
              "      <th>47</th>\n",
              "      <td>2023-05-22 22:56:57</td>\n",
              "      <td>28.6714</td>\n",
              "    </tr>\n",
              "    <tr>\n",
              "      <th>48</th>\n",
              "      <td>2023-05-22 23:56:57</td>\n",
              "      <td>28.6714</td>\n",
              "    </tr>\n",
              "    <tr>\n",
              "      <th>49</th>\n",
              "      <td>2023-05-23 00:56:57</td>\n",
              "      <td>28.6714</td>\n",
              "    </tr>\n",
              "  </tbody>\n",
              "</table>\n",
              "</div>\n",
              "      <button class=\"colab-df-convert\" onclick=\"convertToInteractive('df-0c29064b-2025-4f12-bf1d-51b025147ec3')\"\n",
              "              title=\"Convert this dataframe to an interactive table.\"\n",
              "              style=\"display:none;\">\n",
              "        \n",
              "  <svg xmlns=\"http://www.w3.org/2000/svg\" height=\"24px\"viewBox=\"0 0 24 24\"\n",
              "       width=\"24px\">\n",
              "    <path d=\"M0 0h24v24H0V0z\" fill=\"none\"/>\n",
              "    <path d=\"M18.56 5.44l.94 2.06.94-2.06 2.06-.94-2.06-.94-.94-2.06-.94 2.06-2.06.94zm-11 1L8.5 8.5l.94-2.06 2.06-.94-2.06-.94L8.5 2.5l-.94 2.06-2.06.94zm10 10l.94 2.06.94-2.06 2.06-.94-2.06-.94-.94-2.06-.94 2.06-2.06.94z\"/><path d=\"M17.41 7.96l-1.37-1.37c-.4-.4-.92-.59-1.43-.59-.52 0-1.04.2-1.43.59L10.3 9.45l-7.72 7.72c-.78.78-.78 2.05 0 2.83L4 21.41c.39.39.9.59 1.41.59.51 0 1.02-.2 1.41-.59l7.78-7.78 2.81-2.81c.8-.78.8-2.07 0-2.86zM5.41 20L4 18.59l7.72-7.72 1.47 1.35L5.41 20z\"/>\n",
              "  </svg>\n",
              "      </button>\n",
              "      \n",
              "  <style>\n",
              "    .colab-df-container {\n",
              "      display:flex;\n",
              "      flex-wrap:wrap;\n",
              "      gap: 12px;\n",
              "    }\n",
              "\n",
              "    .colab-df-convert {\n",
              "      background-color: #E8F0FE;\n",
              "      border: none;\n",
              "      border-radius: 50%;\n",
              "      cursor: pointer;\n",
              "      display: none;\n",
              "      fill: #1967D2;\n",
              "      height: 32px;\n",
              "      padding: 0 0 0 0;\n",
              "      width: 32px;\n",
              "    }\n",
              "\n",
              "    .colab-df-convert:hover {\n",
              "      background-color: #E2EBFA;\n",
              "      box-shadow: 0px 1px 2px rgba(60, 64, 67, 0.3), 0px 1px 3px 1px rgba(60, 64, 67, 0.15);\n",
              "      fill: #174EA6;\n",
              "    }\n",
              "\n",
              "    [theme=dark] .colab-df-convert {\n",
              "      background-color: #3B4455;\n",
              "      fill: #D2E3FC;\n",
              "    }\n",
              "\n",
              "    [theme=dark] .colab-df-convert:hover {\n",
              "      background-color: #434B5C;\n",
              "      box-shadow: 0px 1px 3px 1px rgba(0, 0, 0, 0.15);\n",
              "      filter: drop-shadow(0px 1px 2px rgba(0, 0, 0, 0.3));\n",
              "      fill: #FFFFFF;\n",
              "    }\n",
              "  </style>\n",
              "\n",
              "      <script>\n",
              "        const buttonEl =\n",
              "          document.querySelector('#df-0c29064b-2025-4f12-bf1d-51b025147ec3 button.colab-df-convert');\n",
              "        buttonEl.style.display =\n",
              "          google.colab.kernel.accessAllowed ? 'block' : 'none';\n",
              "\n",
              "        async function convertToInteractive(key) {\n",
              "          const element = document.querySelector('#df-0c29064b-2025-4f12-bf1d-51b025147ec3');\n",
              "          const dataTable =\n",
              "            await google.colab.kernel.invokeFunction('convertToInteractive',\n",
              "                                                     [key], {});\n",
              "          if (!dataTable) return;\n",
              "\n",
              "          const docLinkHtml = 'Like what you see? Visit the ' +\n",
              "            '<a target=\"_blank\" href=https://colab.research.google.com/notebooks/data_table.ipynb>data table notebook</a>'\n",
              "            + ' to learn more about interactive tables.';\n",
              "          element.innerHTML = '';\n",
              "          dataTable['output_type'] = 'display_data';\n",
              "          await google.colab.output.renderOutput(dataTable, element);\n",
              "          const docLink = document.createElement('div');\n",
              "          docLink.innerHTML = docLinkHtml;\n",
              "          element.appendChild(docLink);\n",
              "        }\n",
              "      </script>\n",
              "    </div>\n",
              "  </div>\n",
              "  "
            ]
          },
          "metadata": {},
          "execution_count": 21
        }
      ]
    },
    {
      "cell_type": "markdown",
      "source": [
        "# average temperature for each hour"
      ],
      "metadata": {
        "id": "bSn18WJe-lsU"
      }
    },
    {
      "cell_type": "code",
      "source": [
        "import pandas as pd\n",
        "import numpy as np\n",
        "from sklearn.ensemble import RandomForestRegressor\n",
        "from sklearn.metrics import r2_score\n",
        "from sklearn.model_selection import train_test_split\n",
        "from sklearn.preprocessing import StandardScaler\n",
        "from sklearn.pipeline import make_pipeline\n",
        "\n",
        "\n",
        "# Step 2: Data Preprocessing\n",
        "data['datetime'] = pd.to_datetime(data['Date'])  # Convert datetime column to pandas datetime format\n",
        "data['hour'] = data['datetime'].dt.hour  # Extract hour from datetime column\n",
        "data['day'] = data['datetime'].dt.day  # Extract day from datetime column\n",
        "\n",
        "# Step 3: Calculate average temperature for each hour\n",
        "hourly_avg_temp = data.groupby('hour')['AirTC'].max()\n",
        "\n",
        "# Step 4: Generate next 15 days' datetime at hourly intervals\n",
        "next_30_days = pd.date_range(start=data['datetime'].max(), periods=24*30, freq='60T')\n",
        "\n",
        "# Step 5: Extract hour and day for the next 15 days\n",
        "next_hour = [dt.hour for dt in next_30_days]\n",
        "next_day = [dt.day for dt in next_30_days]\n",
        "\n",
        "# Step 6: Create DataFrame with predictions for the next 30 days\n",
        "predictions = pd.DataFrame({'datetime': next_30_days})\n",
        "\n",
        "# Step 7: Fill in temperature predictions based on average temperature at the corresponding hour\n",
        "predictions['temperature'] = [hourly_avg_temp[hour]-2.9 for hour in next_hour]\n",
        "\n",
        "print(predictions)\n"
      ],
      "metadata": {
        "colab": {
          "base_uri": "https://localhost:8080/"
        },
        "id": "t9xcfRwJ673E",
        "outputId": "63e0c354-743a-4ec2-8335-c115bcb03709"
      },
      "execution_count": 22,
      "outputs": [
        {
          "output_type": "stream",
          "name": "stdout",
          "text": [
            "               datetime  temperature\n",
            "0   2023-05-19 23:56:57        28.35\n",
            "1   2023-05-20 00:56:57        27.86\n",
            "2   2023-05-20 01:56:57        27.56\n",
            "3   2023-05-20 02:56:57        26.98\n",
            "4   2023-05-20 03:56:57        26.88\n",
            "..                  ...          ...\n",
            "715 2023-06-18 18:56:57        32.40\n",
            "716 2023-06-18 19:56:57        31.54\n",
            "717 2023-06-18 20:56:57        29.65\n",
            "718 2023-06-18 21:56:57        29.45\n",
            "719 2023-06-18 22:56:57        28.87\n",
            "\n",
            "[720 rows x 2 columns]\n"
          ]
        }
      ]
    },
    {
      "cell_type": "code",
      "source": [
        "subset_rows = predictions.iloc[471:510]\n",
        "print(subset_rows)"
      ],
      "metadata": {
        "colab": {
          "base_uri": "https://localhost:8080/"
        },
        "id": "CEjiTgXzARnM",
        "outputId": "06c5d4c6-b760-489b-cdae-0bc30400bb03"
      },
      "execution_count": 23,
      "outputs": [
        {
          "output_type": "stream",
          "name": "stdout",
          "text": [
            "               datetime  temperature\n",
            "471 2023-06-08 14:56:57        40.27\n",
            "472 2023-06-08 15:56:57        40.49\n",
            "473 2023-06-08 16:56:57        40.73\n",
            "474 2023-06-08 17:56:57        39.63\n",
            "475 2023-06-08 18:56:57        32.40\n",
            "476 2023-06-08 19:56:57        31.54\n",
            "477 2023-06-08 20:56:57        29.65\n",
            "478 2023-06-08 21:56:57        29.45\n",
            "479 2023-06-08 22:56:57        28.87\n",
            "480 2023-06-08 23:56:57        28.35\n",
            "481 2023-06-09 00:56:57        27.86\n",
            "482 2023-06-09 01:56:57        27.56\n",
            "483 2023-06-09 02:56:57        26.98\n",
            "484 2023-06-09 03:56:57        26.88\n",
            "485 2023-06-09 04:56:57        26.62\n",
            "486 2023-06-09 05:56:57        26.30\n",
            "487 2023-06-09 06:56:57        27.12\n",
            "488 2023-06-09 07:56:57        30.90\n",
            "489 2023-06-09 08:56:57        33.19\n",
            "490 2023-06-09 09:56:57        34.19\n",
            "491 2023-06-09 10:56:57        36.05\n",
            "492 2023-06-09 11:56:57        37.23\n",
            "493 2023-06-09 12:56:57        37.52\n",
            "494 2023-06-09 13:56:57        39.37\n",
            "495 2023-06-09 14:56:57        40.27\n",
            "496 2023-06-09 15:56:57        40.49\n",
            "497 2023-06-09 16:56:57        40.73\n",
            "498 2023-06-09 17:56:57        39.63\n",
            "499 2023-06-09 18:56:57        32.40\n",
            "500 2023-06-09 19:56:57        31.54\n",
            "501 2023-06-09 20:56:57        29.65\n",
            "502 2023-06-09 21:56:57        29.45\n",
            "503 2023-06-09 22:56:57        28.87\n",
            "504 2023-06-09 23:56:57        28.35\n",
            "505 2023-06-10 00:56:57        27.86\n",
            "506 2023-06-10 01:56:57        27.56\n",
            "507 2023-06-10 02:56:57        26.98\n",
            "508 2023-06-10 03:56:57        26.88\n",
            "509 2023-06-10 04:56:57        26.62\n"
          ]
        }
      ]
    },
    {
      "cell_type": "code",
      "source": [
        "import pandas as pd\n",
        "import numpy as np\n",
        "\n",
        "data['datetime'] = pd.to_datetime(data['Date'])\n",
        "\n",
        "# Step 2: Set the start date and time for predictions\n",
        "start_date = pd.to_datetime('2023-05-22')\n",
        "start_time = pd.to_timedelta('00 hours 00 minutes 00 seconds')\n",
        "\n",
        "# Step 3: Calculate the number of minutes between the start date/time and the first prediction\n",
        "minutes = (start_date - data['datetime'].min()).total_seconds() // 60\n",
        "\n",
        "# Step 4: Generate next 30 days' datetime at hourly intervals starting from the specified date/time\n",
        "next_30_days = pd.date_range(start=start_date + start_time, periods=24 * 30, freq='60T')\n",
        "\n",
        "# Step 5: Extract hour and day for the next 30 days\n",
        "next_hour = [dt.hour for dt in next_30_days]\n",
        "next_day = [dt.day for dt in next_30_days]\n",
        "\n",
        "# Step 6: Create DataFrame with predictions for the next 30 days\n",
        "predictions = pd.DataFrame({'datetime': next_30_days})\n",
        "\n",
        "# Step 7: Fill in temperature predictions based on average temperature at the corresponding hour\n",
        "#predictions['temperature'] = [data[data['hour'] == hour]['AirTC'].mean()for hour in next_hour]\n",
        "# Step 7: Fill in temperature predictions based on the average between maximum and mean temperature at the corresponding hour\n",
        "predictions['temperature'] = [(data[data['hour'] == hour]['AirTC'].max() + data[data['hour'] == hour]['AirTC'].mean()) / 2 for hour in next_hour]\n",
        "# Step 6: Create DataFrame with predictions for the next 30 days at 6-hour intervals\n",
        "predictions = pd.DataFrame({'datetime': next_30_days[::6]})  # Only select every 4th datetime\n",
        "\n",
        "# Step 7: Fill in temperature predictions based on the mean temperature for the corresponding 6-hour interval\n",
        "predictions['temperature'] = [(data[(data['hour'] >= start_hour) & (data['hour'] < start_hour + 6)]['AirTC'].mean()) for start_hour in next_hour[::6]]  # Only select every 4th hour\n",
        "\n",
        "print(predictions)\n",
        "\n"
      ],
      "metadata": {
        "colab": {
          "base_uri": "https://localhost:8080/"
        },
        "id": "V7VqiDgpA3X5",
        "outputId": "bb651b5c-c93b-4c52-e563-e9356a5730c5"
      },
      "execution_count": 24,
      "outputs": [
        {
          "output_type": "stream",
          "name": "stdout",
          "text": [
            "               datetime  temperature\n",
            "0   2023-05-22 00:00:00    22.577127\n",
            "1   2023-05-22 06:00:00    28.397784\n",
            "2   2023-05-22 12:00:00    32.552686\n",
            "3   2023-05-22 18:00:00    25.401347\n",
            "4   2023-05-23 00:00:00    22.577127\n",
            "..                  ...          ...\n",
            "115 2023-06-19 18:00:00    25.401347\n",
            "116 2023-06-20 00:00:00    22.577127\n",
            "117 2023-06-20 06:00:00    28.397784\n",
            "118 2023-06-20 12:00:00    32.552686\n",
            "119 2023-06-20 18:00:00    25.401347\n",
            "\n",
            "[120 rows x 2 columns]\n"
          ]
        }
      ]
    },
    {
      "cell_type": "code",
      "source": [
        "subsets = predictions.iloc[0:20]\n",
        "subsets"
      ],
      "metadata": {
        "colab": {
          "base_uri": "https://localhost:8080/",
          "height": 676
        },
        "id": "BehvSCZuBM4i",
        "outputId": "01a273e9-4ede-4b52-a06d-3261f668c992"
      },
      "execution_count": 25,
      "outputs": [
        {
          "output_type": "execute_result",
          "data": {
            "text/plain": [
              "              datetime  temperature\n",
              "0  2023-05-22 00:00:00    22.577127\n",
              "1  2023-05-22 06:00:00    28.397784\n",
              "2  2023-05-22 12:00:00    32.552686\n",
              "3  2023-05-22 18:00:00    25.401347\n",
              "4  2023-05-23 00:00:00    22.577127\n",
              "5  2023-05-23 06:00:00    28.397784\n",
              "6  2023-05-23 12:00:00    32.552686\n",
              "7  2023-05-23 18:00:00    25.401347\n",
              "8  2023-05-24 00:00:00    22.577127\n",
              "9  2023-05-24 06:00:00    28.397784\n",
              "10 2023-05-24 12:00:00    32.552686\n",
              "11 2023-05-24 18:00:00    25.401347\n",
              "12 2023-05-25 00:00:00    22.577127\n",
              "13 2023-05-25 06:00:00    28.397784\n",
              "14 2023-05-25 12:00:00    32.552686\n",
              "15 2023-05-25 18:00:00    25.401347\n",
              "16 2023-05-26 00:00:00    22.577127\n",
              "17 2023-05-26 06:00:00    28.397784\n",
              "18 2023-05-26 12:00:00    32.552686\n",
              "19 2023-05-26 18:00:00    25.401347"
            ],
            "text/html": [
              "\n",
              "  <div id=\"df-bbc95884-f8b8-4eb9-9bfe-2f5cb06d4243\">\n",
              "    <div class=\"colab-df-container\">\n",
              "      <div>\n",
              "<style scoped>\n",
              "    .dataframe tbody tr th:only-of-type {\n",
              "        vertical-align: middle;\n",
              "    }\n",
              "\n",
              "    .dataframe tbody tr th {\n",
              "        vertical-align: top;\n",
              "    }\n",
              "\n",
              "    .dataframe thead th {\n",
              "        text-align: right;\n",
              "    }\n",
              "</style>\n",
              "<table border=\"1\" class=\"dataframe\">\n",
              "  <thead>\n",
              "    <tr style=\"text-align: right;\">\n",
              "      <th></th>\n",
              "      <th>datetime</th>\n",
              "      <th>temperature</th>\n",
              "    </tr>\n",
              "  </thead>\n",
              "  <tbody>\n",
              "    <tr>\n",
              "      <th>0</th>\n",
              "      <td>2023-05-22 00:00:00</td>\n",
              "      <td>22.577127</td>\n",
              "    </tr>\n",
              "    <tr>\n",
              "      <th>1</th>\n",
              "      <td>2023-05-22 06:00:00</td>\n",
              "      <td>28.397784</td>\n",
              "    </tr>\n",
              "    <tr>\n",
              "      <th>2</th>\n",
              "      <td>2023-05-22 12:00:00</td>\n",
              "      <td>32.552686</td>\n",
              "    </tr>\n",
              "    <tr>\n",
              "      <th>3</th>\n",
              "      <td>2023-05-22 18:00:00</td>\n",
              "      <td>25.401347</td>\n",
              "    </tr>\n",
              "    <tr>\n",
              "      <th>4</th>\n",
              "      <td>2023-05-23 00:00:00</td>\n",
              "      <td>22.577127</td>\n",
              "    </tr>\n",
              "    <tr>\n",
              "      <th>5</th>\n",
              "      <td>2023-05-23 06:00:00</td>\n",
              "      <td>28.397784</td>\n",
              "    </tr>\n",
              "    <tr>\n",
              "      <th>6</th>\n",
              "      <td>2023-05-23 12:00:00</td>\n",
              "      <td>32.552686</td>\n",
              "    </tr>\n",
              "    <tr>\n",
              "      <th>7</th>\n",
              "      <td>2023-05-23 18:00:00</td>\n",
              "      <td>25.401347</td>\n",
              "    </tr>\n",
              "    <tr>\n",
              "      <th>8</th>\n",
              "      <td>2023-05-24 00:00:00</td>\n",
              "      <td>22.577127</td>\n",
              "    </tr>\n",
              "    <tr>\n",
              "      <th>9</th>\n",
              "      <td>2023-05-24 06:00:00</td>\n",
              "      <td>28.397784</td>\n",
              "    </tr>\n",
              "    <tr>\n",
              "      <th>10</th>\n",
              "      <td>2023-05-24 12:00:00</td>\n",
              "      <td>32.552686</td>\n",
              "    </tr>\n",
              "    <tr>\n",
              "      <th>11</th>\n",
              "      <td>2023-05-24 18:00:00</td>\n",
              "      <td>25.401347</td>\n",
              "    </tr>\n",
              "    <tr>\n",
              "      <th>12</th>\n",
              "      <td>2023-05-25 00:00:00</td>\n",
              "      <td>22.577127</td>\n",
              "    </tr>\n",
              "    <tr>\n",
              "      <th>13</th>\n",
              "      <td>2023-05-25 06:00:00</td>\n",
              "      <td>28.397784</td>\n",
              "    </tr>\n",
              "    <tr>\n",
              "      <th>14</th>\n",
              "      <td>2023-05-25 12:00:00</td>\n",
              "      <td>32.552686</td>\n",
              "    </tr>\n",
              "    <tr>\n",
              "      <th>15</th>\n",
              "      <td>2023-05-25 18:00:00</td>\n",
              "      <td>25.401347</td>\n",
              "    </tr>\n",
              "    <tr>\n",
              "      <th>16</th>\n",
              "      <td>2023-05-26 00:00:00</td>\n",
              "      <td>22.577127</td>\n",
              "    </tr>\n",
              "    <tr>\n",
              "      <th>17</th>\n",
              "      <td>2023-05-26 06:00:00</td>\n",
              "      <td>28.397784</td>\n",
              "    </tr>\n",
              "    <tr>\n",
              "      <th>18</th>\n",
              "      <td>2023-05-26 12:00:00</td>\n",
              "      <td>32.552686</td>\n",
              "    </tr>\n",
              "    <tr>\n",
              "      <th>19</th>\n",
              "      <td>2023-05-26 18:00:00</td>\n",
              "      <td>25.401347</td>\n",
              "    </tr>\n",
              "  </tbody>\n",
              "</table>\n",
              "</div>\n",
              "      <button class=\"colab-df-convert\" onclick=\"convertToInteractive('df-bbc95884-f8b8-4eb9-9bfe-2f5cb06d4243')\"\n",
              "              title=\"Convert this dataframe to an interactive table.\"\n",
              "              style=\"display:none;\">\n",
              "        \n",
              "  <svg xmlns=\"http://www.w3.org/2000/svg\" height=\"24px\"viewBox=\"0 0 24 24\"\n",
              "       width=\"24px\">\n",
              "    <path d=\"M0 0h24v24H0V0z\" fill=\"none\"/>\n",
              "    <path d=\"M18.56 5.44l.94 2.06.94-2.06 2.06-.94-2.06-.94-.94-2.06-.94 2.06-2.06.94zm-11 1L8.5 8.5l.94-2.06 2.06-.94-2.06-.94L8.5 2.5l-.94 2.06-2.06.94zm10 10l.94 2.06.94-2.06 2.06-.94-2.06-.94-.94-2.06-.94 2.06-2.06.94z\"/><path d=\"M17.41 7.96l-1.37-1.37c-.4-.4-.92-.59-1.43-.59-.52 0-1.04.2-1.43.59L10.3 9.45l-7.72 7.72c-.78.78-.78 2.05 0 2.83L4 21.41c.39.39.9.59 1.41.59.51 0 1.02-.2 1.41-.59l7.78-7.78 2.81-2.81c.8-.78.8-2.07 0-2.86zM5.41 20L4 18.59l7.72-7.72 1.47 1.35L5.41 20z\"/>\n",
              "  </svg>\n",
              "      </button>\n",
              "      \n",
              "  <style>\n",
              "    .colab-df-container {\n",
              "      display:flex;\n",
              "      flex-wrap:wrap;\n",
              "      gap: 12px;\n",
              "    }\n",
              "\n",
              "    .colab-df-convert {\n",
              "      background-color: #E8F0FE;\n",
              "      border: none;\n",
              "      border-radius: 50%;\n",
              "      cursor: pointer;\n",
              "      display: none;\n",
              "      fill: #1967D2;\n",
              "      height: 32px;\n",
              "      padding: 0 0 0 0;\n",
              "      width: 32px;\n",
              "    }\n",
              "\n",
              "    .colab-df-convert:hover {\n",
              "      background-color: #E2EBFA;\n",
              "      box-shadow: 0px 1px 2px rgba(60, 64, 67, 0.3), 0px 1px 3px 1px rgba(60, 64, 67, 0.15);\n",
              "      fill: #174EA6;\n",
              "    }\n",
              "\n",
              "    [theme=dark] .colab-df-convert {\n",
              "      background-color: #3B4455;\n",
              "      fill: #D2E3FC;\n",
              "    }\n",
              "\n",
              "    [theme=dark] .colab-df-convert:hover {\n",
              "      background-color: #434B5C;\n",
              "      box-shadow: 0px 1px 3px 1px rgba(0, 0, 0, 0.15);\n",
              "      filter: drop-shadow(0px 1px 2px rgba(0, 0, 0, 0.3));\n",
              "      fill: #FFFFFF;\n",
              "    }\n",
              "  </style>\n",
              "\n",
              "      <script>\n",
              "        const buttonEl =\n",
              "          document.querySelector('#df-bbc95884-f8b8-4eb9-9bfe-2f5cb06d4243 button.colab-df-convert');\n",
              "        buttonEl.style.display =\n",
              "          google.colab.kernel.accessAllowed ? 'block' : 'none';\n",
              "\n",
              "        async function convertToInteractive(key) {\n",
              "          const element = document.querySelector('#df-bbc95884-f8b8-4eb9-9bfe-2f5cb06d4243');\n",
              "          const dataTable =\n",
              "            await google.colab.kernel.invokeFunction('convertToInteractive',\n",
              "                                                     [key], {});\n",
              "          if (!dataTable) return;\n",
              "\n",
              "          const docLinkHtml = 'Like what you see? Visit the ' +\n",
              "            '<a target=\"_blank\" href=https://colab.research.google.com/notebooks/data_table.ipynb>data table notebook</a>'\n",
              "            + ' to learn more about interactive tables.';\n",
              "          element.innerHTML = '';\n",
              "          dataTable['output_type'] = 'display_data';\n",
              "          await google.colab.output.renderOutput(dataTable, element);\n",
              "          const docLink = document.createElement('div');\n",
              "          docLink.innerHTML = docLinkHtml;\n",
              "          element.appendChild(docLink);\n",
              "        }\n",
              "      </script>\n",
              "    </div>\n",
              "  </div>\n",
              "  "
            ]
          },
          "metadata": {},
          "execution_count": 25
        }
      ]
    },
    {
      "cell_type": "code",
      "source": [
        "import pandas as pd\n",
        "import statsmodels.api as sm\n",
        "\n",
        "# Load historical temperature data\n",
        "df = pd.read_csv('/content/sdu-data-day-5.csv')  # Replace 'historical_data.csv' with your file path or data source\n",
        "\n",
        "# Convert the date column to datetime type\n",
        "df['Date'] = pd.to_datetime(df['Date'])\n",
        "\n",
        "# Set the date column as the index\n",
        "df.set_index('Date', inplace=True)\n",
        "\n",
        "# Create a SARIMA model\n",
        "model = sm.tsa.SARIMAX(df['AirTC'], order=(1, 1, 1), seasonal_order=(1, 1, 1, 12))\n",
        "\n",
        "# Fit the model to the data\n",
        "model_fit = model.fit()\n",
        "\n",
        "# Forecast the next 15 days\n",
        "forecast = model_fit.forecast(steps=15)\n",
        "\n",
        "# Print the forecasted temperatures\n",
        "print(forecast)\n"
      ],
      "metadata": {
        "id": "8NBiLzwKBMrU",
        "colab": {
          "base_uri": "https://localhost:8080/",
          "height": 468
        },
        "outputId": "b387ffc9-f3ff-495e-8e99-fe0b342a96af"
      },
      "execution_count": 27,
      "outputs": [
        {
          "output_type": "error",
          "ename": "FileNotFoundError",
          "evalue": "ignored",
          "traceback": [
            "\u001b[0;31m---------------------------------------------------------------------------\u001b[0m",
            "\u001b[0;31mFileNotFoundError\u001b[0m                         Traceback (most recent call last)",
            "\u001b[0;32m<ipython-input-27-5c3afcb948e6>\u001b[0m in \u001b[0;36m<cell line: 5>\u001b[0;34m()\u001b[0m\n\u001b[1;32m      3\u001b[0m \u001b[0;34m\u001b[0m\u001b[0m\n\u001b[1;32m      4\u001b[0m \u001b[0;31m# Load historical temperature data\u001b[0m\u001b[0;34m\u001b[0m\u001b[0;34m\u001b[0m\u001b[0m\n\u001b[0;32m----> 5\u001b[0;31m \u001b[0mdf\u001b[0m \u001b[0;34m=\u001b[0m \u001b[0mpd\u001b[0m\u001b[0;34m.\u001b[0m\u001b[0mread_csv\u001b[0m\u001b[0;34m(\u001b[0m\u001b[0;34m'/content/sdu-data-day-5.csv'\u001b[0m\u001b[0;34m)\u001b[0m  \u001b[0;31m# Replace 'historical_data.csv' with your file path or data source\u001b[0m\u001b[0;34m\u001b[0m\u001b[0;34m\u001b[0m\u001b[0m\n\u001b[0m\u001b[1;32m      6\u001b[0m \u001b[0;34m\u001b[0m\u001b[0m\n\u001b[1;32m      7\u001b[0m \u001b[0;31m# Convert the date column to datetime type\u001b[0m\u001b[0;34m\u001b[0m\u001b[0;34m\u001b[0m\u001b[0m\n",
            "\u001b[0;32m/usr/local/lib/python3.10/dist-packages/pandas/util/_decorators.py\u001b[0m in \u001b[0;36mwrapper\u001b[0;34m(*args, **kwargs)\u001b[0m\n\u001b[1;32m    209\u001b[0m                 \u001b[0;32melse\u001b[0m\u001b[0;34m:\u001b[0m\u001b[0;34m\u001b[0m\u001b[0;34m\u001b[0m\u001b[0m\n\u001b[1;32m    210\u001b[0m                     \u001b[0mkwargs\u001b[0m\u001b[0;34m[\u001b[0m\u001b[0mnew_arg_name\u001b[0m\u001b[0;34m]\u001b[0m \u001b[0;34m=\u001b[0m \u001b[0mnew_arg_value\u001b[0m\u001b[0;34m\u001b[0m\u001b[0;34m\u001b[0m\u001b[0m\n\u001b[0;32m--> 211\u001b[0;31m             \u001b[0;32mreturn\u001b[0m \u001b[0mfunc\u001b[0m\u001b[0;34m(\u001b[0m\u001b[0;34m*\u001b[0m\u001b[0margs\u001b[0m\u001b[0;34m,\u001b[0m \u001b[0;34m**\u001b[0m\u001b[0mkwargs\u001b[0m\u001b[0;34m)\u001b[0m\u001b[0;34m\u001b[0m\u001b[0;34m\u001b[0m\u001b[0m\n\u001b[0m\u001b[1;32m    212\u001b[0m \u001b[0;34m\u001b[0m\u001b[0m\n\u001b[1;32m    213\u001b[0m         \u001b[0;32mreturn\u001b[0m \u001b[0mcast\u001b[0m\u001b[0;34m(\u001b[0m\u001b[0mF\u001b[0m\u001b[0;34m,\u001b[0m \u001b[0mwrapper\u001b[0m\u001b[0;34m)\u001b[0m\u001b[0;34m\u001b[0m\u001b[0;34m\u001b[0m\u001b[0m\n",
            "\u001b[0;32m/usr/local/lib/python3.10/dist-packages/pandas/util/_decorators.py\u001b[0m in \u001b[0;36mwrapper\u001b[0;34m(*args, **kwargs)\u001b[0m\n\u001b[1;32m    329\u001b[0m                     \u001b[0mstacklevel\u001b[0m\u001b[0;34m=\u001b[0m\u001b[0mfind_stack_level\u001b[0m\u001b[0;34m(\u001b[0m\u001b[0;34m)\u001b[0m\u001b[0;34m,\u001b[0m\u001b[0;34m\u001b[0m\u001b[0;34m\u001b[0m\u001b[0m\n\u001b[1;32m    330\u001b[0m                 )\n\u001b[0;32m--> 331\u001b[0;31m             \u001b[0;32mreturn\u001b[0m \u001b[0mfunc\u001b[0m\u001b[0;34m(\u001b[0m\u001b[0;34m*\u001b[0m\u001b[0margs\u001b[0m\u001b[0;34m,\u001b[0m \u001b[0;34m**\u001b[0m\u001b[0mkwargs\u001b[0m\u001b[0;34m)\u001b[0m\u001b[0;34m\u001b[0m\u001b[0;34m\u001b[0m\u001b[0m\n\u001b[0m\u001b[1;32m    332\u001b[0m \u001b[0;34m\u001b[0m\u001b[0m\n\u001b[1;32m    333\u001b[0m         \u001b[0;31m# error: \"Callable[[VarArg(Any), KwArg(Any)], Any]\" has no\u001b[0m\u001b[0;34m\u001b[0m\u001b[0;34m\u001b[0m\u001b[0m\n",
            "\u001b[0;32m/usr/local/lib/python3.10/dist-packages/pandas/io/parsers/readers.py\u001b[0m in \u001b[0;36mread_csv\u001b[0;34m(filepath_or_buffer, sep, delimiter, header, names, index_col, usecols, squeeze, prefix, mangle_dupe_cols, dtype, engine, converters, true_values, false_values, skipinitialspace, skiprows, skipfooter, nrows, na_values, keep_default_na, na_filter, verbose, skip_blank_lines, parse_dates, infer_datetime_format, keep_date_col, date_parser, dayfirst, cache_dates, iterator, chunksize, compression, thousands, decimal, lineterminator, quotechar, quoting, doublequote, escapechar, comment, encoding, encoding_errors, dialect, error_bad_lines, warn_bad_lines, on_bad_lines, delim_whitespace, low_memory, memory_map, float_precision, storage_options)\u001b[0m\n\u001b[1;32m    948\u001b[0m     \u001b[0mkwds\u001b[0m\u001b[0;34m.\u001b[0m\u001b[0mupdate\u001b[0m\u001b[0;34m(\u001b[0m\u001b[0mkwds_defaults\u001b[0m\u001b[0;34m)\u001b[0m\u001b[0;34m\u001b[0m\u001b[0;34m\u001b[0m\u001b[0m\n\u001b[1;32m    949\u001b[0m \u001b[0;34m\u001b[0m\u001b[0m\n\u001b[0;32m--> 950\u001b[0;31m     \u001b[0;32mreturn\u001b[0m \u001b[0m_read\u001b[0m\u001b[0;34m(\u001b[0m\u001b[0mfilepath_or_buffer\u001b[0m\u001b[0;34m,\u001b[0m \u001b[0mkwds\u001b[0m\u001b[0;34m)\u001b[0m\u001b[0;34m\u001b[0m\u001b[0;34m\u001b[0m\u001b[0m\n\u001b[0m\u001b[1;32m    951\u001b[0m \u001b[0;34m\u001b[0m\u001b[0m\n\u001b[1;32m    952\u001b[0m \u001b[0;34m\u001b[0m\u001b[0m\n",
            "\u001b[0;32m/usr/local/lib/python3.10/dist-packages/pandas/io/parsers/readers.py\u001b[0m in \u001b[0;36m_read\u001b[0;34m(filepath_or_buffer, kwds)\u001b[0m\n\u001b[1;32m    603\u001b[0m \u001b[0;34m\u001b[0m\u001b[0m\n\u001b[1;32m    604\u001b[0m     \u001b[0;31m# Create the parser.\u001b[0m\u001b[0;34m\u001b[0m\u001b[0;34m\u001b[0m\u001b[0m\n\u001b[0;32m--> 605\u001b[0;31m     \u001b[0mparser\u001b[0m \u001b[0;34m=\u001b[0m \u001b[0mTextFileReader\u001b[0m\u001b[0;34m(\u001b[0m\u001b[0mfilepath_or_buffer\u001b[0m\u001b[0;34m,\u001b[0m \u001b[0;34m**\u001b[0m\u001b[0mkwds\u001b[0m\u001b[0;34m)\u001b[0m\u001b[0;34m\u001b[0m\u001b[0;34m\u001b[0m\u001b[0m\n\u001b[0m\u001b[1;32m    606\u001b[0m \u001b[0;34m\u001b[0m\u001b[0m\n\u001b[1;32m    607\u001b[0m     \u001b[0;32mif\u001b[0m \u001b[0mchunksize\u001b[0m \u001b[0;32mor\u001b[0m \u001b[0miterator\u001b[0m\u001b[0;34m:\u001b[0m\u001b[0;34m\u001b[0m\u001b[0;34m\u001b[0m\u001b[0m\n",
            "\u001b[0;32m/usr/local/lib/python3.10/dist-packages/pandas/io/parsers/readers.py\u001b[0m in \u001b[0;36m__init__\u001b[0;34m(self, f, engine, **kwds)\u001b[0m\n\u001b[1;32m   1440\u001b[0m \u001b[0;34m\u001b[0m\u001b[0m\n\u001b[1;32m   1441\u001b[0m         \u001b[0mself\u001b[0m\u001b[0;34m.\u001b[0m\u001b[0mhandles\u001b[0m\u001b[0;34m:\u001b[0m \u001b[0mIOHandles\u001b[0m \u001b[0;34m|\u001b[0m \u001b[0;32mNone\u001b[0m \u001b[0;34m=\u001b[0m \u001b[0;32mNone\u001b[0m\u001b[0;34m\u001b[0m\u001b[0;34m\u001b[0m\u001b[0m\n\u001b[0;32m-> 1442\u001b[0;31m         \u001b[0mself\u001b[0m\u001b[0;34m.\u001b[0m\u001b[0m_engine\u001b[0m \u001b[0;34m=\u001b[0m \u001b[0mself\u001b[0m\u001b[0;34m.\u001b[0m\u001b[0m_make_engine\u001b[0m\u001b[0;34m(\u001b[0m\u001b[0mf\u001b[0m\u001b[0;34m,\u001b[0m \u001b[0mself\u001b[0m\u001b[0;34m.\u001b[0m\u001b[0mengine\u001b[0m\u001b[0;34m)\u001b[0m\u001b[0;34m\u001b[0m\u001b[0;34m\u001b[0m\u001b[0m\n\u001b[0m\u001b[1;32m   1443\u001b[0m \u001b[0;34m\u001b[0m\u001b[0m\n\u001b[1;32m   1444\u001b[0m     \u001b[0;32mdef\u001b[0m \u001b[0mclose\u001b[0m\u001b[0;34m(\u001b[0m\u001b[0mself\u001b[0m\u001b[0;34m)\u001b[0m \u001b[0;34m->\u001b[0m \u001b[0;32mNone\u001b[0m\u001b[0;34m:\u001b[0m\u001b[0;34m\u001b[0m\u001b[0;34m\u001b[0m\u001b[0m\n",
            "\u001b[0;32m/usr/local/lib/python3.10/dist-packages/pandas/io/parsers/readers.py\u001b[0m in \u001b[0;36m_make_engine\u001b[0;34m(self, f, engine)\u001b[0m\n\u001b[1;32m   1733\u001b[0m                 \u001b[0;32mif\u001b[0m \u001b[0;34m\"b\"\u001b[0m \u001b[0;32mnot\u001b[0m \u001b[0;32min\u001b[0m \u001b[0mmode\u001b[0m\u001b[0;34m:\u001b[0m\u001b[0;34m\u001b[0m\u001b[0;34m\u001b[0m\u001b[0m\n\u001b[1;32m   1734\u001b[0m                     \u001b[0mmode\u001b[0m \u001b[0;34m+=\u001b[0m \u001b[0;34m\"b\"\u001b[0m\u001b[0;34m\u001b[0m\u001b[0;34m\u001b[0m\u001b[0m\n\u001b[0;32m-> 1735\u001b[0;31m             self.handles = get_handle(\n\u001b[0m\u001b[1;32m   1736\u001b[0m                 \u001b[0mf\u001b[0m\u001b[0;34m,\u001b[0m\u001b[0;34m\u001b[0m\u001b[0;34m\u001b[0m\u001b[0m\n\u001b[1;32m   1737\u001b[0m                 \u001b[0mmode\u001b[0m\u001b[0;34m,\u001b[0m\u001b[0;34m\u001b[0m\u001b[0;34m\u001b[0m\u001b[0m\n",
            "\u001b[0;32m/usr/local/lib/python3.10/dist-packages/pandas/io/common.py\u001b[0m in \u001b[0;36mget_handle\u001b[0;34m(path_or_buf, mode, encoding, compression, memory_map, is_text, errors, storage_options)\u001b[0m\n\u001b[1;32m    854\u001b[0m         \u001b[0;32mif\u001b[0m \u001b[0mioargs\u001b[0m\u001b[0;34m.\u001b[0m\u001b[0mencoding\u001b[0m \u001b[0;32mand\u001b[0m \u001b[0;34m\"b\"\u001b[0m \u001b[0;32mnot\u001b[0m \u001b[0;32min\u001b[0m \u001b[0mioargs\u001b[0m\u001b[0;34m.\u001b[0m\u001b[0mmode\u001b[0m\u001b[0;34m:\u001b[0m\u001b[0;34m\u001b[0m\u001b[0;34m\u001b[0m\u001b[0m\n\u001b[1;32m    855\u001b[0m             \u001b[0;31m# Encoding\u001b[0m\u001b[0;34m\u001b[0m\u001b[0;34m\u001b[0m\u001b[0m\n\u001b[0;32m--> 856\u001b[0;31m             handle = open(\n\u001b[0m\u001b[1;32m    857\u001b[0m                 \u001b[0mhandle\u001b[0m\u001b[0;34m,\u001b[0m\u001b[0;34m\u001b[0m\u001b[0;34m\u001b[0m\u001b[0m\n\u001b[1;32m    858\u001b[0m                 \u001b[0mioargs\u001b[0m\u001b[0;34m.\u001b[0m\u001b[0mmode\u001b[0m\u001b[0;34m,\u001b[0m\u001b[0;34m\u001b[0m\u001b[0;34m\u001b[0m\u001b[0m\n",
            "\u001b[0;31mFileNotFoundError\u001b[0m: [Errno 2] No such file or directory: '/content/sdu-data-day-5.csv'"
          ]
        }
      ]
    },
    {
      "cell_type": "markdown",
      "source": [
        "# day - 07"
      ],
      "metadata": {
        "id": "CMFIFWapG8WV"
      }
    },
    {
      "cell_type": "code",
      "source": [
        "import numpy as np \n",
        "import pandas as pd \n",
        "import matplotlib.pyplot as plt\n",
        "import seaborn as sns\n",
        "\n"
      ],
      "metadata": {
        "id": "mZPG-1im6gxF"
      },
      "execution_count": 36,
      "outputs": []
    },
    {
      "cell_type": "code",
      "source": [
        "dATA=pd.read_csv(\"/content/SRM-DATA-FROM-JAN-1.csv\")"
      ],
      "metadata": {
        "id": "2i0jF37LHuiV"
      },
      "execution_count": 69,
      "outputs": []
    },
    {
      "cell_type": "code",
      "source": [
        "dF=pd.read_csv(\"/content/SRM-JAN-1-ST-2022-APR-30.csv\")"
      ],
      "metadata": {
        "id": "9vYvAoGCd8X1"
      },
      "execution_count": 64,
      "outputs": []
    },
    {
      "cell_type": "code",
      "source": [
        "\n",
        "\n",
        "df.tail()"
      ],
      "metadata": {
        "colab": {
          "base_uri": "https://localhost:8080/",
          "height": 250
        },
        "id": "YphNf9r-IIrR",
        "outputId": "535dff5f-8678-47f6-a35f-5b2cafccffe6"
      },
      "execution_count": 71,
      "outputs": [
        {
          "output_type": "execute_result",
          "data": {
            "text/plain": [
              "                          Date  LWP     WS  WD   RF      LUX  AirTC  AirHP  \\\n",
              "11136  12/13/2022, 12:44:56 PM    1  12.48   e  0.0  15018.0  29.35  72.48   \n",
              "11137  12/13/2022, 12:27:39 PM    1  15.84  se  0.0  20004.0  29.94  71.88   \n",
              "11138  12/13/2022, 12:09:27 PM    1   9.60   e  0.0  17589.0  29.80  71.40   \n",
              "11139  12/13/2022, 11:52:09 AM    1  11.04  se  0.0  16519.0  30.24  72.81   \n",
              "11140  12/13/2022, 10:56:39 AM    1   9.60   e  0.0  16234.0  29.70  74.26   \n",
              "\n",
              "         AirPP  \n",
              "11136  1006.29  \n",
              "11137  1006.37  \n",
              "11138  1006.72  \n",
              "11139  1007.24  \n",
              "11140  1008.14  "
            ],
            "text/html": [
              "\n",
              "  <div id=\"df-fa119194-b4ff-4be5-bf7d-490f39936ea5\">\n",
              "    <div class=\"colab-df-container\">\n",
              "      <div>\n",
              "<style scoped>\n",
              "    .dataframe tbody tr th:only-of-type {\n",
              "        vertical-align: middle;\n",
              "    }\n",
              "\n",
              "    .dataframe tbody tr th {\n",
              "        vertical-align: top;\n",
              "    }\n",
              "\n",
              "    .dataframe thead th {\n",
              "        text-align: right;\n",
              "    }\n",
              "</style>\n",
              "<table border=\"1\" class=\"dataframe\">\n",
              "  <thead>\n",
              "    <tr style=\"text-align: right;\">\n",
              "      <th></th>\n",
              "      <th>Date</th>\n",
              "      <th>LWP</th>\n",
              "      <th>WS</th>\n",
              "      <th>WD</th>\n",
              "      <th>RF</th>\n",
              "      <th>LUX</th>\n",
              "      <th>AirTC</th>\n",
              "      <th>AirHP</th>\n",
              "      <th>AirPP</th>\n",
              "    </tr>\n",
              "  </thead>\n",
              "  <tbody>\n",
              "    <tr>\n",
              "      <th>11136</th>\n",
              "      <td>12/13/2022, 12:44:56 PM</td>\n",
              "      <td>1</td>\n",
              "      <td>12.48</td>\n",
              "      <td>e</td>\n",
              "      <td>0.0</td>\n",
              "      <td>15018.0</td>\n",
              "      <td>29.35</td>\n",
              "      <td>72.48</td>\n",
              "      <td>1006.29</td>\n",
              "    </tr>\n",
              "    <tr>\n",
              "      <th>11137</th>\n",
              "      <td>12/13/2022, 12:27:39 PM</td>\n",
              "      <td>1</td>\n",
              "      <td>15.84</td>\n",
              "      <td>se</td>\n",
              "      <td>0.0</td>\n",
              "      <td>20004.0</td>\n",
              "      <td>29.94</td>\n",
              "      <td>71.88</td>\n",
              "      <td>1006.37</td>\n",
              "    </tr>\n",
              "    <tr>\n",
              "      <th>11138</th>\n",
              "      <td>12/13/2022, 12:09:27 PM</td>\n",
              "      <td>1</td>\n",
              "      <td>9.60</td>\n",
              "      <td>e</td>\n",
              "      <td>0.0</td>\n",
              "      <td>17589.0</td>\n",
              "      <td>29.80</td>\n",
              "      <td>71.40</td>\n",
              "      <td>1006.72</td>\n",
              "    </tr>\n",
              "    <tr>\n",
              "      <th>11139</th>\n",
              "      <td>12/13/2022, 11:52:09 AM</td>\n",
              "      <td>1</td>\n",
              "      <td>11.04</td>\n",
              "      <td>se</td>\n",
              "      <td>0.0</td>\n",
              "      <td>16519.0</td>\n",
              "      <td>30.24</td>\n",
              "      <td>72.81</td>\n",
              "      <td>1007.24</td>\n",
              "    </tr>\n",
              "    <tr>\n",
              "      <th>11140</th>\n",
              "      <td>12/13/2022, 10:56:39 AM</td>\n",
              "      <td>1</td>\n",
              "      <td>9.60</td>\n",
              "      <td>e</td>\n",
              "      <td>0.0</td>\n",
              "      <td>16234.0</td>\n",
              "      <td>29.70</td>\n",
              "      <td>74.26</td>\n",
              "      <td>1008.14</td>\n",
              "    </tr>\n",
              "  </tbody>\n",
              "</table>\n",
              "</div>\n",
              "      <button class=\"colab-df-convert\" onclick=\"convertToInteractive('df-fa119194-b4ff-4be5-bf7d-490f39936ea5')\"\n",
              "              title=\"Convert this dataframe to an interactive table.\"\n",
              "              style=\"display:none;\">\n",
              "        \n",
              "  <svg xmlns=\"http://www.w3.org/2000/svg\" height=\"24px\"viewBox=\"0 0 24 24\"\n",
              "       width=\"24px\">\n",
              "    <path d=\"M0 0h24v24H0V0z\" fill=\"none\"/>\n",
              "    <path d=\"M18.56 5.44l.94 2.06.94-2.06 2.06-.94-2.06-.94-.94-2.06-.94 2.06-2.06.94zm-11 1L8.5 8.5l.94-2.06 2.06-.94-2.06-.94L8.5 2.5l-.94 2.06-2.06.94zm10 10l.94 2.06.94-2.06 2.06-.94-2.06-.94-.94-2.06-.94 2.06-2.06.94z\"/><path d=\"M17.41 7.96l-1.37-1.37c-.4-.4-.92-.59-1.43-.59-.52 0-1.04.2-1.43.59L10.3 9.45l-7.72 7.72c-.78.78-.78 2.05 0 2.83L4 21.41c.39.39.9.59 1.41.59.51 0 1.02-.2 1.41-.59l7.78-7.78 2.81-2.81c.8-.78.8-2.07 0-2.86zM5.41 20L4 18.59l7.72-7.72 1.47 1.35L5.41 20z\"/>\n",
              "  </svg>\n",
              "      </button>\n",
              "      \n",
              "  <style>\n",
              "    .colab-df-container {\n",
              "      display:flex;\n",
              "      flex-wrap:wrap;\n",
              "      gap: 12px;\n",
              "    }\n",
              "\n",
              "    .colab-df-convert {\n",
              "      background-color: #E8F0FE;\n",
              "      border: none;\n",
              "      border-radius: 50%;\n",
              "      cursor: pointer;\n",
              "      display: none;\n",
              "      fill: #1967D2;\n",
              "      height: 32px;\n",
              "      padding: 0 0 0 0;\n",
              "      width: 32px;\n",
              "    }\n",
              "\n",
              "    .colab-df-convert:hover {\n",
              "      background-color: #E2EBFA;\n",
              "      box-shadow: 0px 1px 2px rgba(60, 64, 67, 0.3), 0px 1px 3px 1px rgba(60, 64, 67, 0.15);\n",
              "      fill: #174EA6;\n",
              "    }\n",
              "\n",
              "    [theme=dark] .colab-df-convert {\n",
              "      background-color: #3B4455;\n",
              "      fill: #D2E3FC;\n",
              "    }\n",
              "\n",
              "    [theme=dark] .colab-df-convert:hover {\n",
              "      background-color: #434B5C;\n",
              "      box-shadow: 0px 1px 3px 1px rgba(0, 0, 0, 0.15);\n",
              "      filter: drop-shadow(0px 1px 2px rgba(0, 0, 0, 0.3));\n",
              "      fill: #FFFFFF;\n",
              "    }\n",
              "  </style>\n",
              "\n",
              "      <script>\n",
              "        const buttonEl =\n",
              "          document.querySelector('#df-fa119194-b4ff-4be5-bf7d-490f39936ea5 button.colab-df-convert');\n",
              "        buttonEl.style.display =\n",
              "          google.colab.kernel.accessAllowed ? 'block' : 'none';\n",
              "\n",
              "        async function convertToInteractive(key) {\n",
              "          const element = document.querySelector('#df-fa119194-b4ff-4be5-bf7d-490f39936ea5');\n",
              "          const dataTable =\n",
              "            await google.colab.kernel.invokeFunction('convertToInteractive',\n",
              "                                                     [key], {});\n",
              "          if (!dataTable) return;\n",
              "\n",
              "          const docLinkHtml = 'Like what you see? Visit the ' +\n",
              "            '<a target=\"_blank\" href=https://colab.research.google.com/notebooks/data_table.ipynb>data table notebook</a>'\n",
              "            + ' to learn more about interactive tables.';\n",
              "          element.innerHTML = '';\n",
              "          dataTable['output_type'] = 'display_data';\n",
              "          await google.colab.output.renderOutput(dataTable, element);\n",
              "          const docLink = document.createElement('div');\n",
              "          docLink.innerHTML = docLinkHtml;\n",
              "          element.appendChild(docLink);\n",
              "        }\n",
              "      </script>\n",
              "    </div>\n",
              "  </div>\n",
              "  "
            ]
          },
          "metadata": {},
          "execution_count": 71
        }
      ]
    },
    {
      "cell_type": "code",
      "source": [
        "df.shape\n"
      ],
      "metadata": {
        "colab": {
          "base_uri": "https://localhost:8080/"
        },
        "id": "wRjtxcJZIPiH",
        "outputId": "0050f46a-be89-43c6-818b-167267366b71"
      },
      "execution_count": 66,
      "outputs": [
        {
          "output_type": "execute_result",
          "data": {
            "text/plain": [
              "(11141, 9)"
            ]
          },
          "metadata": {},
          "execution_count": 66
        }
      ]
    },
    {
      "cell_type": "code",
      "source": [
        "dATA.shape"
      ],
      "metadata": {
        "colab": {
          "base_uri": "https://localhost:8080/"
        },
        "id": "fi89I9HNeIXu",
        "outputId": "897a2d43-013b-46fc-b215-3fc71fbd9cea"
      },
      "execution_count": 70,
      "outputs": [
        {
          "output_type": "execute_result",
          "data": {
            "text/plain": [
              "(11141, 9)"
            ]
          },
          "metadata": {},
          "execution_count": 70
        }
      ]
    },
    {
      "cell_type": "code",
      "source": [
        "df.describe()"
      ],
      "metadata": {
        "colab": {
          "base_uri": "https://localhost:8080/",
          "height": 364
        },
        "id": "wmp58WelITIL",
        "outputId": "1224c1b6-49d5-452e-b29f-c818adb0ff09"
      },
      "execution_count": 72,
      "outputs": [
        {
          "output_type": "execute_result",
          "data": {
            "text/plain": [
              "                LWP            WS            RF           LUX         AirTC  \\\n",
              "count  11141.000000  11141.000000  11141.000000  11141.000000  11141.000000   \n",
              "mean       5.114352      4.930890      0.087256  11535.795710     27.246700   \n",
              "std       10.250473      4.422262      8.535933  17630.234546      9.499809   \n",
              "min        0.000000      0.000000      0.000000    -99.000000    -99.000000   \n",
              "25%        1.000000      0.960000      0.000000      0.000000     24.040000   \n",
              "50%        1.000000      4.320000      0.000000    209.000000     27.390000   \n",
              "75%        2.000000      7.680000      0.000000  17581.000000     31.390000   \n",
              "max       72.000000     37.920000    900.790000  93278.000000     43.630000   \n",
              "\n",
              "              AirHP         AirPP  \n",
              "count  11141.000000  11141.000000  \n",
              "mean      73.726286   1002.203741  \n",
              "std       20.525102     70.211566  \n",
              "min      -99.000000    -99.000000  \n",
              "25%       59.630000   1004.220000  \n",
              "50%       78.520000   1006.660000  \n",
              "75%       90.030000   1009.110000  \n",
              "max       96.930000   1015.120000  "
            ],
            "text/html": [
              "\n",
              "  <div id=\"df-1b41361c-d7b1-4bd4-b3e4-5d17b6838a51\">\n",
              "    <div class=\"colab-df-container\">\n",
              "      <div>\n",
              "<style scoped>\n",
              "    .dataframe tbody tr th:only-of-type {\n",
              "        vertical-align: middle;\n",
              "    }\n",
              "\n",
              "    .dataframe tbody tr th {\n",
              "        vertical-align: top;\n",
              "    }\n",
              "\n",
              "    .dataframe thead th {\n",
              "        text-align: right;\n",
              "    }\n",
              "</style>\n",
              "<table border=\"1\" class=\"dataframe\">\n",
              "  <thead>\n",
              "    <tr style=\"text-align: right;\">\n",
              "      <th></th>\n",
              "      <th>LWP</th>\n",
              "      <th>WS</th>\n",
              "      <th>RF</th>\n",
              "      <th>LUX</th>\n",
              "      <th>AirTC</th>\n",
              "      <th>AirHP</th>\n",
              "      <th>AirPP</th>\n",
              "    </tr>\n",
              "  </thead>\n",
              "  <tbody>\n",
              "    <tr>\n",
              "      <th>count</th>\n",
              "      <td>11141.000000</td>\n",
              "      <td>11141.000000</td>\n",
              "      <td>11141.000000</td>\n",
              "      <td>11141.000000</td>\n",
              "      <td>11141.000000</td>\n",
              "      <td>11141.000000</td>\n",
              "      <td>11141.000000</td>\n",
              "    </tr>\n",
              "    <tr>\n",
              "      <th>mean</th>\n",
              "      <td>5.114352</td>\n",
              "      <td>4.930890</td>\n",
              "      <td>0.087256</td>\n",
              "      <td>11535.795710</td>\n",
              "      <td>27.246700</td>\n",
              "      <td>73.726286</td>\n",
              "      <td>1002.203741</td>\n",
              "    </tr>\n",
              "    <tr>\n",
              "      <th>std</th>\n",
              "      <td>10.250473</td>\n",
              "      <td>4.422262</td>\n",
              "      <td>8.535933</td>\n",
              "      <td>17630.234546</td>\n",
              "      <td>9.499809</td>\n",
              "      <td>20.525102</td>\n",
              "      <td>70.211566</td>\n",
              "    </tr>\n",
              "    <tr>\n",
              "      <th>min</th>\n",
              "      <td>0.000000</td>\n",
              "      <td>0.000000</td>\n",
              "      <td>0.000000</td>\n",
              "      <td>-99.000000</td>\n",
              "      <td>-99.000000</td>\n",
              "      <td>-99.000000</td>\n",
              "      <td>-99.000000</td>\n",
              "    </tr>\n",
              "    <tr>\n",
              "      <th>25%</th>\n",
              "      <td>1.000000</td>\n",
              "      <td>0.960000</td>\n",
              "      <td>0.000000</td>\n",
              "      <td>0.000000</td>\n",
              "      <td>24.040000</td>\n",
              "      <td>59.630000</td>\n",
              "      <td>1004.220000</td>\n",
              "    </tr>\n",
              "    <tr>\n",
              "      <th>50%</th>\n",
              "      <td>1.000000</td>\n",
              "      <td>4.320000</td>\n",
              "      <td>0.000000</td>\n",
              "      <td>209.000000</td>\n",
              "      <td>27.390000</td>\n",
              "      <td>78.520000</td>\n",
              "      <td>1006.660000</td>\n",
              "    </tr>\n",
              "    <tr>\n",
              "      <th>75%</th>\n",
              "      <td>2.000000</td>\n",
              "      <td>7.680000</td>\n",
              "      <td>0.000000</td>\n",
              "      <td>17581.000000</td>\n",
              "      <td>31.390000</td>\n",
              "      <td>90.030000</td>\n",
              "      <td>1009.110000</td>\n",
              "    </tr>\n",
              "    <tr>\n",
              "      <th>max</th>\n",
              "      <td>72.000000</td>\n",
              "      <td>37.920000</td>\n",
              "      <td>900.790000</td>\n",
              "      <td>93278.000000</td>\n",
              "      <td>43.630000</td>\n",
              "      <td>96.930000</td>\n",
              "      <td>1015.120000</td>\n",
              "    </tr>\n",
              "  </tbody>\n",
              "</table>\n",
              "</div>\n",
              "      <button class=\"colab-df-convert\" onclick=\"convertToInteractive('df-1b41361c-d7b1-4bd4-b3e4-5d17b6838a51')\"\n",
              "              title=\"Convert this dataframe to an interactive table.\"\n",
              "              style=\"display:none;\">\n",
              "        \n",
              "  <svg xmlns=\"http://www.w3.org/2000/svg\" height=\"24px\"viewBox=\"0 0 24 24\"\n",
              "       width=\"24px\">\n",
              "    <path d=\"M0 0h24v24H0V0z\" fill=\"none\"/>\n",
              "    <path d=\"M18.56 5.44l.94 2.06.94-2.06 2.06-.94-2.06-.94-.94-2.06-.94 2.06-2.06.94zm-11 1L8.5 8.5l.94-2.06 2.06-.94-2.06-.94L8.5 2.5l-.94 2.06-2.06.94zm10 10l.94 2.06.94-2.06 2.06-.94-2.06-.94-.94-2.06-.94 2.06-2.06.94z\"/><path d=\"M17.41 7.96l-1.37-1.37c-.4-.4-.92-.59-1.43-.59-.52 0-1.04.2-1.43.59L10.3 9.45l-7.72 7.72c-.78.78-.78 2.05 0 2.83L4 21.41c.39.39.9.59 1.41.59.51 0 1.02-.2 1.41-.59l7.78-7.78 2.81-2.81c.8-.78.8-2.07 0-2.86zM5.41 20L4 18.59l7.72-7.72 1.47 1.35L5.41 20z\"/>\n",
              "  </svg>\n",
              "      </button>\n",
              "      \n",
              "  <style>\n",
              "    .colab-df-container {\n",
              "      display:flex;\n",
              "      flex-wrap:wrap;\n",
              "      gap: 12px;\n",
              "    }\n",
              "\n",
              "    .colab-df-convert {\n",
              "      background-color: #E8F0FE;\n",
              "      border: none;\n",
              "      border-radius: 50%;\n",
              "      cursor: pointer;\n",
              "      display: none;\n",
              "      fill: #1967D2;\n",
              "      height: 32px;\n",
              "      padding: 0 0 0 0;\n",
              "      width: 32px;\n",
              "    }\n",
              "\n",
              "    .colab-df-convert:hover {\n",
              "      background-color: #E2EBFA;\n",
              "      box-shadow: 0px 1px 2px rgba(60, 64, 67, 0.3), 0px 1px 3px 1px rgba(60, 64, 67, 0.15);\n",
              "      fill: #174EA6;\n",
              "    }\n",
              "\n",
              "    [theme=dark] .colab-df-convert {\n",
              "      background-color: #3B4455;\n",
              "      fill: #D2E3FC;\n",
              "    }\n",
              "\n",
              "    [theme=dark] .colab-df-convert:hover {\n",
              "      background-color: #434B5C;\n",
              "      box-shadow: 0px 1px 3px 1px rgba(0, 0, 0, 0.15);\n",
              "      filter: drop-shadow(0px 1px 2px rgba(0, 0, 0, 0.3));\n",
              "      fill: #FFFFFF;\n",
              "    }\n",
              "  </style>\n",
              "\n",
              "      <script>\n",
              "        const buttonEl =\n",
              "          document.querySelector('#df-1b41361c-d7b1-4bd4-b3e4-5d17b6838a51 button.colab-df-convert');\n",
              "        buttonEl.style.display =\n",
              "          google.colab.kernel.accessAllowed ? 'block' : 'none';\n",
              "\n",
              "        async function convertToInteractive(key) {\n",
              "          const element = document.querySelector('#df-1b41361c-d7b1-4bd4-b3e4-5d17b6838a51');\n",
              "          const dataTable =\n",
              "            await google.colab.kernel.invokeFunction('convertToInteractive',\n",
              "                                                     [key], {});\n",
              "          if (!dataTable) return;\n",
              "\n",
              "          const docLinkHtml = 'Like what you see? Visit the ' +\n",
              "            '<a target=\"_blank\" href=https://colab.research.google.com/notebooks/data_table.ipynb>data table notebook</a>'\n",
              "            + ' to learn more about interactive tables.';\n",
              "          element.innerHTML = '';\n",
              "          dataTable['output_type'] = 'display_data';\n",
              "          await google.colab.output.renderOutput(dataTable, element);\n",
              "          const docLink = document.createElement('div');\n",
              "          docLink.innerHTML = docLinkHtml;\n",
              "          element.appendChild(docLink);\n",
              "        }\n",
              "      </script>\n",
              "    </div>\n",
              "  </div>\n",
              "  "
            ]
          },
          "metadata": {},
          "execution_count": 72
        }
      ]
    },
    {
      "cell_type": "code",
      "source": [
        "df.info()"
      ],
      "metadata": {
        "colab": {
          "base_uri": "https://localhost:8080/"
        },
        "id": "unT_tKIrIXz7",
        "outputId": "af03e25a-8f90-4143-ed99-565024f225d4"
      },
      "execution_count": 73,
      "outputs": [
        {
          "output_type": "stream",
          "name": "stdout",
          "text": [
            "<class 'pandas.core.frame.DataFrame'>\n",
            "RangeIndex: 11141 entries, 0 to 11140\n",
            "Data columns (total 9 columns):\n",
            " #   Column  Non-Null Count  Dtype  \n",
            "---  ------  --------------  -----  \n",
            " 0   Date    11141 non-null  object \n",
            " 1   LWP     11141 non-null  int64  \n",
            " 2   WS      11141 non-null  float64\n",
            " 3   WD      11141 non-null  object \n",
            " 4   RF      11141 non-null  float64\n",
            " 5   LUX     11141 non-null  float64\n",
            " 6   AirTC   11141 non-null  float64\n",
            " 7   AirHP   11141 non-null  float64\n",
            " 8   AirPP   11141 non-null  float64\n",
            "dtypes: float64(6), int64(1), object(2)\n",
            "memory usage: 783.5+ KB\n"
          ]
        }
      ]
    },
    {
      "cell_type": "code",
      "source": [
        "df.isnull().sum()"
      ],
      "metadata": {
        "colab": {
          "base_uri": "https://localhost:8080/"
        },
        "id": "WzrmwfGCIzr8",
        "outputId": "80350bad-24c0-487e-c5d8-e2c90c939d0c"
      },
      "execution_count": 74,
      "outputs": [
        {
          "output_type": "execute_result",
          "data": {
            "text/plain": [
              "Date     0\n",
              "LWP      0\n",
              "WS       0\n",
              "WD       0\n",
              "RF       0\n",
              "LUX      0\n",
              "AirTC    0\n",
              "AirHP    0\n",
              "AirPP    0\n",
              "dtype: int64"
            ]
          },
          "metadata": {},
          "execution_count": 74
        }
      ]
    },
    {
      "cell_type": "code",
      "source": [
        "correlation_matrix = df.corr()\n",
        "correlation_matrix"
      ],
      "metadata": {
        "colab": {
          "base_uri": "https://localhost:8080/",
          "height": 369
        },
        "id": "50mjgAFyI33o",
        "outputId": "170a8ac3-c017-41c4-a8c4-b8b7341d8186"
      },
      "execution_count": 75,
      "outputs": [
        {
          "output_type": "stream",
          "name": "stderr",
          "text": [
            "<ipython-input-75-f471181e404f>:1: FutureWarning: The default value of numeric_only in DataFrame.corr is deprecated. In a future version, it will default to False. Select only valid columns or specify the value of numeric_only to silence this warning.\n",
            "  correlation_matrix = df.corr()\n"
          ]
        },
        {
          "output_type": "execute_result",
          "data": {
            "text/plain": [
              "            LWP        WS        RF       LUX     AirTC     AirHP     AirPP\n",
              "LWP    1.000000 -0.306909 -0.002896 -0.230324 -0.196801  0.360547  0.028539\n",
              "WS    -0.306909  1.000000 -0.007243  0.419852  0.336634 -0.498494  0.010067\n",
              "RF    -0.002896 -0.007243  1.000000 -0.006570 -0.126078 -0.079074 -0.148509\n",
              "LUX   -0.230324  0.419852 -0.006570  1.000000  0.397177 -0.595394  0.042631\n",
              "AirTC -0.196801  0.336634 -0.126078  0.397177  1.000000  0.091131  0.835322\n",
              "AirHP  0.360547 -0.498494 -0.079074 -0.595394  0.091131  1.000000  0.539130\n",
              "AirPP  0.028539  0.010067 -0.148509  0.042631  0.835322  0.539130  1.000000"
            ],
            "text/html": [
              "\n",
              "  <div id=\"df-92c30f84-745a-422c-bb92-ce64b7569664\">\n",
              "    <div class=\"colab-df-container\">\n",
              "      <div>\n",
              "<style scoped>\n",
              "    .dataframe tbody tr th:only-of-type {\n",
              "        vertical-align: middle;\n",
              "    }\n",
              "\n",
              "    .dataframe tbody tr th {\n",
              "        vertical-align: top;\n",
              "    }\n",
              "\n",
              "    .dataframe thead th {\n",
              "        text-align: right;\n",
              "    }\n",
              "</style>\n",
              "<table border=\"1\" class=\"dataframe\">\n",
              "  <thead>\n",
              "    <tr style=\"text-align: right;\">\n",
              "      <th></th>\n",
              "      <th>LWP</th>\n",
              "      <th>WS</th>\n",
              "      <th>RF</th>\n",
              "      <th>LUX</th>\n",
              "      <th>AirTC</th>\n",
              "      <th>AirHP</th>\n",
              "      <th>AirPP</th>\n",
              "    </tr>\n",
              "  </thead>\n",
              "  <tbody>\n",
              "    <tr>\n",
              "      <th>LWP</th>\n",
              "      <td>1.000000</td>\n",
              "      <td>-0.306909</td>\n",
              "      <td>-0.002896</td>\n",
              "      <td>-0.230324</td>\n",
              "      <td>-0.196801</td>\n",
              "      <td>0.360547</td>\n",
              "      <td>0.028539</td>\n",
              "    </tr>\n",
              "    <tr>\n",
              "      <th>WS</th>\n",
              "      <td>-0.306909</td>\n",
              "      <td>1.000000</td>\n",
              "      <td>-0.007243</td>\n",
              "      <td>0.419852</td>\n",
              "      <td>0.336634</td>\n",
              "      <td>-0.498494</td>\n",
              "      <td>0.010067</td>\n",
              "    </tr>\n",
              "    <tr>\n",
              "      <th>RF</th>\n",
              "      <td>-0.002896</td>\n",
              "      <td>-0.007243</td>\n",
              "      <td>1.000000</td>\n",
              "      <td>-0.006570</td>\n",
              "      <td>-0.126078</td>\n",
              "      <td>-0.079074</td>\n",
              "      <td>-0.148509</td>\n",
              "    </tr>\n",
              "    <tr>\n",
              "      <th>LUX</th>\n",
              "      <td>-0.230324</td>\n",
              "      <td>0.419852</td>\n",
              "      <td>-0.006570</td>\n",
              "      <td>1.000000</td>\n",
              "      <td>0.397177</td>\n",
              "      <td>-0.595394</td>\n",
              "      <td>0.042631</td>\n",
              "    </tr>\n",
              "    <tr>\n",
              "      <th>AirTC</th>\n",
              "      <td>-0.196801</td>\n",
              "      <td>0.336634</td>\n",
              "      <td>-0.126078</td>\n",
              "      <td>0.397177</td>\n",
              "      <td>1.000000</td>\n",
              "      <td>0.091131</td>\n",
              "      <td>0.835322</td>\n",
              "    </tr>\n",
              "    <tr>\n",
              "      <th>AirHP</th>\n",
              "      <td>0.360547</td>\n",
              "      <td>-0.498494</td>\n",
              "      <td>-0.079074</td>\n",
              "      <td>-0.595394</td>\n",
              "      <td>0.091131</td>\n",
              "      <td>1.000000</td>\n",
              "      <td>0.539130</td>\n",
              "    </tr>\n",
              "    <tr>\n",
              "      <th>AirPP</th>\n",
              "      <td>0.028539</td>\n",
              "      <td>0.010067</td>\n",
              "      <td>-0.148509</td>\n",
              "      <td>0.042631</td>\n",
              "      <td>0.835322</td>\n",
              "      <td>0.539130</td>\n",
              "      <td>1.000000</td>\n",
              "    </tr>\n",
              "  </tbody>\n",
              "</table>\n",
              "</div>\n",
              "      <button class=\"colab-df-convert\" onclick=\"convertToInteractive('df-92c30f84-745a-422c-bb92-ce64b7569664')\"\n",
              "              title=\"Convert this dataframe to an interactive table.\"\n",
              "              style=\"display:none;\">\n",
              "        \n",
              "  <svg xmlns=\"http://www.w3.org/2000/svg\" height=\"24px\"viewBox=\"0 0 24 24\"\n",
              "       width=\"24px\">\n",
              "    <path d=\"M0 0h24v24H0V0z\" fill=\"none\"/>\n",
              "    <path d=\"M18.56 5.44l.94 2.06.94-2.06 2.06-.94-2.06-.94-.94-2.06-.94 2.06-2.06.94zm-11 1L8.5 8.5l.94-2.06 2.06-.94-2.06-.94L8.5 2.5l-.94 2.06-2.06.94zm10 10l.94 2.06.94-2.06 2.06-.94-2.06-.94-.94-2.06-.94 2.06-2.06.94z\"/><path d=\"M17.41 7.96l-1.37-1.37c-.4-.4-.92-.59-1.43-.59-.52 0-1.04.2-1.43.59L10.3 9.45l-7.72 7.72c-.78.78-.78 2.05 0 2.83L4 21.41c.39.39.9.59 1.41.59.51 0 1.02-.2 1.41-.59l7.78-7.78 2.81-2.81c.8-.78.8-2.07 0-2.86zM5.41 20L4 18.59l7.72-7.72 1.47 1.35L5.41 20z\"/>\n",
              "  </svg>\n",
              "      </button>\n",
              "      \n",
              "  <style>\n",
              "    .colab-df-container {\n",
              "      display:flex;\n",
              "      flex-wrap:wrap;\n",
              "      gap: 12px;\n",
              "    }\n",
              "\n",
              "    .colab-df-convert {\n",
              "      background-color: #E8F0FE;\n",
              "      border: none;\n",
              "      border-radius: 50%;\n",
              "      cursor: pointer;\n",
              "      display: none;\n",
              "      fill: #1967D2;\n",
              "      height: 32px;\n",
              "      padding: 0 0 0 0;\n",
              "      width: 32px;\n",
              "    }\n",
              "\n",
              "    .colab-df-convert:hover {\n",
              "      background-color: #E2EBFA;\n",
              "      box-shadow: 0px 1px 2px rgba(60, 64, 67, 0.3), 0px 1px 3px 1px rgba(60, 64, 67, 0.15);\n",
              "      fill: #174EA6;\n",
              "    }\n",
              "\n",
              "    [theme=dark] .colab-df-convert {\n",
              "      background-color: #3B4455;\n",
              "      fill: #D2E3FC;\n",
              "    }\n",
              "\n",
              "    [theme=dark] .colab-df-convert:hover {\n",
              "      background-color: #434B5C;\n",
              "      box-shadow: 0px 1px 3px 1px rgba(0, 0, 0, 0.15);\n",
              "      filter: drop-shadow(0px 1px 2px rgba(0, 0, 0, 0.3));\n",
              "      fill: #FFFFFF;\n",
              "    }\n",
              "  </style>\n",
              "\n",
              "      <script>\n",
              "        const buttonEl =\n",
              "          document.querySelector('#df-92c30f84-745a-422c-bb92-ce64b7569664 button.colab-df-convert');\n",
              "        buttonEl.style.display =\n",
              "          google.colab.kernel.accessAllowed ? 'block' : 'none';\n",
              "\n",
              "        async function convertToInteractive(key) {\n",
              "          const element = document.querySelector('#df-92c30f84-745a-422c-bb92-ce64b7569664');\n",
              "          const dataTable =\n",
              "            await google.colab.kernel.invokeFunction('convertToInteractive',\n",
              "                                                     [key], {});\n",
              "          if (!dataTable) return;\n",
              "\n",
              "          const docLinkHtml = 'Like what you see? Visit the ' +\n",
              "            '<a target=\"_blank\" href=https://colab.research.google.com/notebooks/data_table.ipynb>data table notebook</a>'\n",
              "            + ' to learn more about interactive tables.';\n",
              "          element.innerHTML = '';\n",
              "          dataTable['output_type'] = 'display_data';\n",
              "          await google.colab.output.renderOutput(dataTable, element);\n",
              "          const docLink = document.createElement('div');\n",
              "          docLink.innerHTML = docLinkHtml;\n",
              "          element.appendChild(docLink);\n",
              "        }\n",
              "      </script>\n",
              "    </div>\n",
              "  </div>\n",
              "  "
            ]
          },
          "metadata": {},
          "execution_count": 75
        }
      ]
    },
    {
      "cell_type": "code",
      "source": [
        "import seaborn as sns\n",
        "import matplotlib.pyplot as plt\n",
        "\n",
        "# Generate a heatmap of the correlation matrix\n",
        "sns.heatmap(correlation_matrix, annot=True, cmap='coolwarm')\n",
        "plt.show()\n"
      ],
      "metadata": {
        "colab": {
          "base_uri": "https://localhost:8080/",
          "height": 435
        },
        "id": "zvolRTiYJAtR",
        "outputId": "ce9a06a1-7c3a-4d8a-c938-9b8df1029b83"
      },
      "execution_count": 76,
      "outputs": [
        {
          "output_type": "display_data",
          "data": {
            "text/plain": [
              "<Figure size 640x480 with 2 Axes>"
            ],
            "image/png": "[encoded data removed]"
          },
          "metadata": {}
        }
      ]
    },
    {
      "cell_type": "code",
      "source": [
        "from sklearn.model_selection import train_test_split\n",
        "features=[\"AirHP\",\"AirPP\"]\n",
        "X=df[features]\n",
        "y=df.AirTC\n",
        "train_X, test_X, train_y, test_y = train_test_split(X, y,random_state = 42)"
      ],
      "metadata": {
        "id": "081zGNsPJSCo"
      },
      "execution_count": 77,
      "outputs": []
    },
    {
      "cell_type": "code",
      "source": [
        "from sklearn.tree import DecisionTreeRegressor\n",
        "from sklearn.metrics import mean_absolute_error\n",
        "\n",
        "model1=DecisionTreeRegressor(random_state=41)\n",
        "model1.fit(train_X, train_y)\n",
        "pred1=model1.predict(test_X)\n",
        "print(\"Mean Absolute Error: %f\" %(mean_absolute_error(test_y, pred1)))"
      ],
      "metadata": {
        "colab": {
          "base_uri": "https://localhost:8080/"
        },
        "id": "OkwnliY_KHrF",
        "outputId": "33c9d6e0-b9a8-4a25-d711-5f163448c71c"
      },
      "execution_count": 78,
      "outputs": [
        {
          "output_type": "stream",
          "name": "stdout",
          "text": [
            "Mean Absolute Error: 1.771858\n"
          ]
        }
      ]
    },
    {
      "cell_type": "code",
      "source": [
        "from sklearn.ensemble import RandomForestRegressor\n",
        "\n",
        "model2=RandomForestRegressor(random_state=1)\n",
        "model2.fit(train_X, train_y)\n",
        "pred2=model2.predict(test_X)\n",
        "print(\"Mean Absolute Error: %f\" %(mean_absolute_error(test_y, pred2)))\n",
        "    "
      ],
      "metadata": {
        "colab": {
          "base_uri": "https://localhost:8080/"
        },
        "id": "aMpih7ZXLF1q",
        "outputId": "3271c929-eb1c-4e13-c7d5-05ce3a7c4e0b"
      },
      "execution_count": 79,
      "outputs": [
        {
          "output_type": "stream",
          "name": "stdout",
          "text": [
            "Mean Absolute Error: 1.423362\n"
          ]
        }
      ]
    },
    {
      "cell_type": "code",
      "source": [
        "from xgboost import XGBRegressor\n",
        "\n",
        "model3= XGBRegressor(n_estimators=100, learning_rate=0.04)\n",
        "model3.fit(train_X, train_y)\n",
        "pred3=model3.predict(test_X)\n",
        "print(\"Mean Absolute Error: %f\" %(mean_absolute_error(test_y, pred3)))"
      ],
      "metadata": {
        "colab": {
          "base_uri": "https://localhost:8080/"
        },
        "id": "R8yhDax9LPPa",
        "outputId": "c7c56a79-4e32-4a87-ce00-1b143070c6e6"
      },
      "execution_count": 80,
      "outputs": [
        {
          "output_type": "stream",
          "name": "stdout",
          "text": [
            "Mean Absolute Error: 1.450746\n"
          ]
        }
      ]
    },
    {
      "cell_type": "code",
      "source": [
        "pred2"
      ],
      "metadata": {
        "colab": {
          "base_uri": "https://localhost:8080/"
        },
        "id": "O1br5H1hLSMD",
        "outputId": "df304a39-06b5-4820-b448-6402e115464b"
      },
      "execution_count": 81,
      "outputs": [
        {
          "output_type": "execute_result",
          "data": {
            "text/plain": [
              "array([34.957 , 29.9675, 26.8682, ..., 23.6188, 21.446 , 34.9944])"
            ]
          },
          "metadata": {},
          "execution_count": 81
        }
      ]
    },
    {
      "cell_type": "code",
      "source": [
        "import pandas as pd\n",
        "\n",
        "# Load the dataset into a DataFrame\n",
        "# Assuming your dataset has 'Date' and 'Temperature' columns\n",
        "dates = pd.to_datetime(data['Date'])\n",
        "temperatures = data['AirTC']\n",
        "from sklearn.model_selection import train_test_split\n",
        "\n",
        "# Split the data into training and testing sets\n",
        "train_dates, test_dates, train_temperatures, test_temperatures = train_test_split(dates, temperatures, test_size=0.20, random_state=42)\n",
        "\n"
      ],
      "metadata": {
        "id": "QwTgikdEL5cR"
      },
      "execution_count": 220,
      "outputs": []
    },
    {
      "cell_type": "code",
      "source": [
        "train_X = pd.DataFrame({'Year': train_dates.dt.year,\n",
        "                        'Month': train_dates.dt.month,\n",
        "                        'Day': train_dates.dt.day})\n",
        "test_X = pd.DataFrame({'Year': test_dates.dt.year,\n",
        "                       'Month': test_dates.dt.month,\n",
        "                       'Day': test_dates.dt.day})\n"
      ],
      "metadata": {
        "id": "LTMum9IkMQmM"
      },
      "execution_count": 221,
      "outputs": []
    },
    {
      "cell_type": "code",
      "source": [
        "from xgboost import XGBRegressor\n",
        "from sklearn.metrics import mean_absolute_error,r2_score\n",
        "\n",
        "# Create and train the XGBoost model\n",
        "model = XGBRegressor(n_estimators=110, learning_rate=0.048)\n",
        "model.fit(train_X, train_temperatures)\n",
        "start_date = pd.to_datetime('2023-05-10')\n",
        "start_time = pd.to_timedelta('00 hours 00 minutes 00 seconds')\n",
        "data['datetime'] = pd.to_datetime(data['Date'])\n",
        "# Step 3: Calculate the number of minutes between the start date/time and the first prediction\n",
        "minutes = (start_date - data['datetime'].min()).total_seconds() // 60\n",
        "\n",
        "# Step 4: Generate next 30 days' datetime at hourly intervals starting from the specified date/time\n",
        "next_dates = pd.date_range(start=start_date + start_time, periods= 13, freq='D')\n",
        "\n",
        "# Predict the temperatures for the next 15 days\n",
        "#next_dates = pd.date_range(start=test_dates.iloc[-1], periods=90, freq='D')\n",
        "next_X = pd.DataFrame({'Year': next_dates.year,\n",
        "                       'Month': next_dates.month,\n",
        "                       'Day': next_dates.day})\n",
        "next_predictions = model.predict(next_X)\n"
      ],
      "metadata": {
        "id": "Qzp-SpnkMY0C"
      },
      "execution_count": 224,
      "outputs": []
    },
    {
      "cell_type": "code",
      "source": [
        "predictions_df = pd.DataFrame({'Date': next_dates, 'Temperature': next_predictions})\n",
        "print(predictions_df)\n"
      ],
      "metadata": {
        "colab": {
          "base_uri": "https://localhost:8080/"
        },
        "id": "xpf7E8zPMbGy",
        "outputId": "4b8637af-8925-4e22-c7df-d6811f96ae01"
      },
      "execution_count": 225,
      "outputs": [
        {
          "output_type": "stream",
          "name": "stdout",
          "text": [
            "         Date  Temperature\n",
            "0  2023-05-10    32.961269\n",
            "1  2023-05-11    30.215223\n",
            "2  2023-05-12    32.534306\n",
            "3  2023-05-13    33.055511\n",
            "4  2023-05-14    31.683601\n",
            "5  2023-05-15    33.934437\n",
            "6  2023-05-16    34.393661\n",
            "7  2023-05-17    33.514381\n",
            "8  2023-05-18    32.383759\n",
            "9  2023-05-19    32.116928\n",
            "10 2023-05-20    32.118237\n",
            "11 2023-05-21    31.832293\n",
            "12 2023-05-22    31.557060\n"
          ]
        }
      ]
    },
    {
      "cell_type": "code",
      "source": [
        "prediction = predictions_df.Temperature\n",
        "prediction"
      ],
      "metadata": {
        "colab": {
          "base_uri": "https://localhost:8080/"
        },
        "id": "7kwFxfkgwQJj",
        "outputId": "97ceff90-0c8c-4b04-a351-3adfa5833404"
      },
      "execution_count": 169,
      "outputs": [
        {
          "output_type": "execute_result",
          "data": {
            "text/plain": [
              "0     31.912605\n",
              "1     29.812214\n",
              "2     31.980877\n",
              "3     32.603916\n",
              "4     30.965076\n",
              "5     33.752808\n",
              "6     33.727982\n",
              "7     32.535358\n",
              "8     32.135067\n",
              "9     32.021366\n",
              "10    32.021366\n",
              "11    31.761606\n",
              "12    31.140379\n",
              "Name: Temperature, dtype: float32"
            ]
          },
          "metadata": {},
          "execution_count": 169
        }
      ]
    },
    {
      "cell_type": "code",
      "source": [
        "import pandas as pd\n",
        "from sklearn.model_selection import train_test_split\n",
        "from xgboost import XGBRegressor\n",
        "from sklearn.metrics import mean_absolute_error\n",
        "\n",
        "# Load the dataset into a DataFrame\n",
        "# Assuming your dataset has 'Date' and 'Temperature' columns\n",
        "dates = pd.to_datetime(data['Date'])\n",
        "temperatures = data['AirTC']\n",
        "\n",
        "# Split the data into training and testing sets\n",
        "train_dates, test_dates, train_temperatures, test_temperatures = train_test_split(dates, temperatures, test_size=0.2, random_state=242)\n",
        "\n",
        "train_X = pd.DataFrame({'Year': train_dates.dt.year,\n",
        "                        'Month': train_dates.dt.month,\n",
        "                        'Day': train_dates.dt.day})\n",
        "test_X = pd.DataFrame({'Year': test_dates.dt.year,\n",
        "                       'Month': test_dates.dt.month,\n",
        "                       'Day': test_dates.dt.day})\n",
        "\n",
        "# Create and train the XGBoost model with adjusted hyperparameters\n",
        "model = XGBRegressor(n_estimators=200, learning_rate=0.01, max_depth=5, subsample=0.8, colsample_bytree=0.8)\n",
        "model.fit(train_X, train_temperatures)\n",
        "\n",
        "# Predict the temperatures for the test set\n",
        "test_predictions = model.predict(test_X)\n",
        "print(test_predictions)\n",
        "# Calculate the mean absolute\n"
      ],
      "metadata": {
        "colab": {
          "base_uri": "https://localhost:8080/"
        },
        "id": "BFfYJVVsn293",
        "outputId": "5c01a302-f06b-421a-c5cc-f85bac00bff2"
      },
      "execution_count": 203,
      "outputs": [
        {
          "output_type": "stream",
          "name": "stdout",
          "text": [
            "[27.779354 27.779354 27.881279 28.623955 28.082188 28.788671 28.148289\n",
            " 27.881279 28.857883 28.857883 28.152637 28.857883 28.623955 27.13576\n",
            " 27.536674 27.881279 28.082188 27.536674 28.082188 28.384344 28.788671\n",
            " 28.082188 27.536674 27.779354 28.788671 28.152637 28.347254 28.152637\n",
            " 28.384344 28.623955 28.857883 28.152637 28.148289 28.857883 27.536674\n",
            " 28.082188 28.347254 28.351215 27.779354 28.347254 27.881279 28.384344\n",
            " 27.779354 28.471022 28.351215 28.152637 28.384344 28.152637 28.384344\n",
            " 28.347254 28.857883 28.082188 28.857883 28.857883 28.347254 28.347254\n",
            " 28.082188 28.623955 27.779354 28.384344 27.536674 28.471022 28.152637\n",
            " 27.881279 28.384344 28.788671 27.779354 27.881279 27.881279 28.471022\n",
            " 28.857883 27.881279 27.881279 27.881279 28.347254 28.857883 28.152637\n",
            " 28.351215 28.857883 28.082188 28.857883 27.779354 27.536674 28.082188\n",
            " 28.148289 28.148289 28.471022 27.779354 28.347254 28.082188 28.788671\n",
            " 28.082188 28.471022 28.857883 27.779354 28.347254 28.788671 28.148289\n",
            " 28.788671 28.152637 27.13576  28.148289 28.788671 27.13576  28.082188\n",
            " 27.13576  28.857883 27.881279 27.779354 28.857883 27.536674 28.351215\n",
            " 28.082188 28.857883 28.351215 27.881279 28.857883 28.148289 28.082188\n",
            " 27.13576  28.148289 27.881279 28.152637 28.788671 27.536674 28.347254\n",
            " 28.623955 27.536674 28.384344 28.347254 28.152637 28.623955 27.881279\n",
            " 28.082188 28.623955 28.788671 27.13576  28.347254 28.857883 27.881279\n",
            " 28.788671 28.082188 28.347254 27.13576  28.788671 28.148289 27.881279\n",
            " 28.152637 28.471022 28.082188 28.082188 28.082188 27.881279 28.471022\n",
            " 28.788671 28.384344 28.471022 28.148289 28.788671 27.779354 28.471022\n",
            " 27.779354 28.471022 27.881279 28.148289 28.623955 28.788671 28.347254\n",
            " 27.536674 28.148289 28.347254 28.351215 28.623955 28.351215 27.536674\n",
            " 28.857883 27.779354 28.788671 28.351215 27.881279 27.779354 27.13576\n",
            " 28.082188 28.857883 28.152637]\n"
          ]
        }
      ]
    },
    {
      "cell_type": "code",
      "source": [
        "\n",
        "\n",
        "# Calculate metrics for the test set\n",
        "mse = mean_squared_error(test_temperatures, test_predictions)\n",
        "rmse = np.sqrt(mse)\n",
        "r2 = r2_score(test_temperatures, test_predictions)\n",
        "\n",
        "print(\"Test Set Metrics:\")\n",
        "print(\"MSE: \", mse)\n",
        "print(\"RMSE: \", rmse)\n",
        "print(\"R2 Score: \", r2)\n",
        "true_values = [32.556721,30.108000,32.350244,33.135962,31.629687,34.271231,34.526951, 33.335732,32.555301, 32.361548,32.480952,31.945833, 31.805357]\n",
        "# Calculate metrics for the next 15 days (replace true_values with actual temperature values)\n",
        "next_mse = mean_squared_error(true_values, next_predictions)\n",
        "next_rmse = np.sqrt(next_mse)\n",
        "next_r2 = r2_score(true_values, next_predictions)\n",
        "\n",
        "print(\"Next 15 Days Metrics:\")\n",
        "print(\"MSE: \", next_mse)\n",
        "print(\"RMSE: \", next_rmse)\n",
        "print(\"R2 Score: \", next_r2)"
      ],
      "metadata": {
        "colab": {
          "base_uri": "https://localhost:8080/"
        },
        "id": "BT8pWCCVfx3c",
        "outputId": "7f3c8b31-dcb4-4191-8bc9-a48875365dc8"
      },
      "execution_count": 149,
      "outputs": [
        {
          "output_type": "stream",
          "name": "stdout",
          "text": [
            "Test Set Metrics:\n",
            "MSE:  16.29503435221752\n",
            "RMSE:  4.036710833366383\n",
            "R2 Score:  0.07310677229558538\n",
            "Next 15 Days Metrics:\n",
            "MSE:  0.25567775522208\n",
            "RMSE:  0.5056458792693559\n",
            "R2 Score:  0.7874968503788408\n"
          ]
        }
      ]
    },
    {
      "cell_type": "code",
      "source": [
        "start_date = pd.to_datetime('2023-05-22')\n",
        "start_time = pd.to_timedelta('00 hours 00 minutes 00 seconds')\n",
        "data['datetime'] = pd.to_datetime(data['Date'])\n",
        "# Step 3: Calculate the number of minutes between the start date/time and the first prediction\n",
        "minutes = (start_date - data['datetime'].min()).total_seconds() // 60\n",
        "\n",
        "# Step 4: Generate next 30 days' datetime at hourly intervals starting from the specified date/time\n",
        "next_30_days = pd.date_range(start=start_date + start_time, periods=24 * 30, freq='60T')\n",
        "\n",
        "# Step 5: Extract hour and day for the next 30 days\n",
        "next_hour = [dt.hour for dt in next_30_days]\n",
        "next_day = [dt.day for dt in next_30_days]\n",
        "\n",
        "# Step 6: Create DataFrame with predictions for the next 30 days\n",
        "predictions = pd.DataFrame({'datetime': next_30_days})\n",
        "\n",
        "# Step 7: Fill in temperature predictions based on average temperature at the corresponding hour\n",
        "#predictions['temperature'] = [data[data['hour'] == hour]['AirTC'].mean()for hour in next_hour]\n",
        "# Step 7: Fill in temperature predictions based on the average between maximum and mean temperature at the corresponding hour\n",
        "predictions['temperature'] = [(data[data['hour'] == hour]['AirTC'].max() + data[data['hour'] == hour]['AirTC'].mean()) / 2 for hour in next_hour]\n",
        "# Step 6: Create DataFrame with predictions for the next 30 days at 6-hour intervals\n",
        "predictions = pd.DataFrame({'datetime': next_30_days[::6]})  # Only select every 4th datetime\n",
        "\n",
        "# Step 7: Fill in temperature predictions based on the mean temperature for the corresponding 6-hour interval\n",
        "predictions['temperature'] = [(data[(data['hour'] >= start_hour) & (data['hour'] < start_hour + 6)]['AirTC'].mean()) for start_hour in next_hour[::6]]  # Only select every 4th hour\n",
        "\n",
        "print(predictions)\n",
        "\n"
      ],
      "metadata": {
        "colab": {
          "base_uri": "https://localhost:8080/",
          "height": 614
        },
        "id": "uqkaFrF_NFI9",
        "outputId": "4b148052-00a7-4d0c-ad4e-0eeedf953f73"
      },
      "execution_count": 150,
      "outputs": [
        {
          "output_type": "error",
          "ename": "KeyError",
          "evalue": "ignored",
          "traceback": [
            "\u001b[0;31m---------------------------------------------------------------------------\u001b[0m",
            "\u001b[0;31mKeyError\u001b[0m                                  Traceback (most recent call last)",
            "\u001b[0;32m/usr/local/lib/python3.10/dist-packages/pandas/core/indexes/base.py\u001b[0m in \u001b[0;36mget_loc\u001b[0;34m(self, key, method, tolerance)\u001b[0m\n\u001b[1;32m   3801\u001b[0m             \u001b[0;32mtry\u001b[0m\u001b[0;34m:\u001b[0m\u001b[0;34m\u001b[0m\u001b[0;34m\u001b[0m\u001b[0m\n\u001b[0;32m-> 3802\u001b[0;31m                 \u001b[0;32mreturn\u001b[0m \u001b[0mself\u001b[0m\u001b[0;34m.\u001b[0m\u001b[0m_engine\u001b[0m\u001b[0;34m.\u001b[0m\u001b[0mget_loc\u001b[0m\u001b[0;34m(\u001b[0m\u001b[0mcasted_key\u001b[0m\u001b[0;34m)\u001b[0m\u001b[0;34m\u001b[0m\u001b[0;34m\u001b[0m\u001b[0m\n\u001b[0m\u001b[1;32m   3803\u001b[0m             \u001b[0;32mexcept\u001b[0m \u001b[0mKeyError\u001b[0m \u001b[0;32mas\u001b[0m \u001b[0merr\u001b[0m\u001b[0;34m:\u001b[0m\u001b[0;34m\u001b[0m\u001b[0;34m\u001b[0m\u001b[0m\n",
            "\u001b[0;32m/usr/local/lib/python3.10/dist-packages/pandas/_libs/index.pyx\u001b[0m in \u001b[0;36mpandas._libs.index.IndexEngine.get_loc\u001b[0;34m()\u001b[0m\n",
            "\u001b[0;32m/usr/local/lib/python3.10/dist-packages/pandas/_libs/index.pyx\u001b[0m in \u001b[0;36mpandas._libs.index.IndexEngine.get_loc\u001b[0;34m()\u001b[0m\n",
            "\u001b[0;32mpandas/_libs/hashtable_class_helper.pxi\u001b[0m in \u001b[0;36mpandas._libs.hashtable.PyObjectHashTable.get_item\u001b[0;34m()\u001b[0m\n",
            "\u001b[0;32mpandas/_libs/hashtable_class_helper.pxi\u001b[0m in \u001b[0;36mpandas._libs.hashtable.PyObjectHashTable.get_item\u001b[0;34m()\u001b[0m\n",
            "\u001b[0;31mKeyError\u001b[0m: 'hour'",
            "\nThe above exception was the direct cause of the following exception:\n",
            "\u001b[0;31mKeyError\u001b[0m                                  Traceback (most recent call last)",
            "\u001b[0;32m<ipython-input-150-a7db632be956>\u001b[0m in \u001b[0;36m<cell line: 20>\u001b[0;34m()\u001b[0m\n\u001b[1;32m     18\u001b[0m \u001b[0;31m#predictions['temperature'] = [data[data['hour'] == hour]['AirTC'].mean()for hour in next_hour]\u001b[0m\u001b[0;34m\u001b[0m\u001b[0;34m\u001b[0m\u001b[0m\n\u001b[1;32m     19\u001b[0m \u001b[0;31m# Step 7: Fill in temperature predictions based on the average between maximum and mean temperature at the corresponding hour\u001b[0m\u001b[0;34m\u001b[0m\u001b[0;34m\u001b[0m\u001b[0m\n\u001b[0;32m---> 20\u001b[0;31m \u001b[0mpredictions\u001b[0m\u001b[0;34m[\u001b[0m\u001b[0;34m'temperature'\u001b[0m\u001b[0;34m]\u001b[0m \u001b[0;34m=\u001b[0m \u001b[0;34m[\u001b[0m\u001b[0;34m(\u001b[0m\u001b[0mdata\u001b[0m\u001b[0;34m[\u001b[0m\u001b[0mdata\u001b[0m\u001b[0;34m[\u001b[0m\u001b[0;34m'hour'\u001b[0m\u001b[0;34m]\u001b[0m \u001b[0;34m==\u001b[0m \u001b[0mhour\u001b[0m\u001b[0;34m]\u001b[0m\u001b[0;34m[\u001b[0m\u001b[0;34m'AirTC'\u001b[0m\u001b[0;34m]\u001b[0m\u001b[0;34m.\u001b[0m\u001b[0mmax\u001b[0m\u001b[0;34m(\u001b[0m\u001b[0;34m)\u001b[0m \u001b[0;34m+\u001b[0m \u001b[0mdata\u001b[0m\u001b[0;34m[\u001b[0m\u001b[0mdata\u001b[0m\u001b[0;34m[\u001b[0m\u001b[0;34m'hour'\u001b[0m\u001b[0;34m]\u001b[0m \u001b[0;34m==\u001b[0m \u001b[0mhour\u001b[0m\u001b[0;34m]\u001b[0m\u001b[0;34m[\u001b[0m\u001b[0;34m'AirTC'\u001b[0m\u001b[0;34m]\u001b[0m\u001b[0;34m.\u001b[0m\u001b[0mmean\u001b[0m\u001b[0;34m(\u001b[0m\u001b[0;34m)\u001b[0m\u001b[0;34m)\u001b[0m \u001b[0;34m/\u001b[0m \u001b[0;36m2\u001b[0m \u001b[0;32mfor\u001b[0m \u001b[0mhour\u001b[0m \u001b[0;32min\u001b[0m \u001b[0mnext_hour\u001b[0m\u001b[0;34m]\u001b[0m\u001b[0;34m\u001b[0m\u001b[0;34m\u001b[0m\u001b[0m\n\u001b[0m\u001b[1;32m     21\u001b[0m \u001b[0;31m# Step 6: Create DataFrame with predictions for the next 30 days at 6-hour intervals\u001b[0m\u001b[0;34m\u001b[0m\u001b[0;34m\u001b[0m\u001b[0m\n\u001b[1;32m     22\u001b[0m \u001b[0mpredictions\u001b[0m \u001b[0;34m=\u001b[0m \u001b[0mpd\u001b[0m\u001b[0;34m.\u001b[0m\u001b[0mDataFrame\u001b[0m\u001b[0;34m(\u001b[0m\u001b[0;34m{\u001b[0m\u001b[0;34m'datetime'\u001b[0m\u001b[0;34m:\u001b[0m \u001b[0mnext_30_days\u001b[0m\u001b[0;34m[\u001b[0m\u001b[0;34m:\u001b[0m\u001b[0;34m:\u001b[0m\u001b[0;36m6\u001b[0m\u001b[0;34m]\u001b[0m\u001b[0;34m}\u001b[0m\u001b[0;34m)\u001b[0m  \u001b[0;31m# Only select every 4th datetime\u001b[0m\u001b[0;34m\u001b[0m\u001b[0;34m\u001b[0m\u001b[0m\n",
            "\u001b[0;32m<ipython-input-150-a7db632be956>\u001b[0m in \u001b[0;36m<listcomp>\u001b[0;34m(.0)\u001b[0m\n\u001b[1;32m     18\u001b[0m \u001b[0;31m#predictions['temperature'] = [data[data['hour'] == hour]['AirTC'].mean()for hour in next_hour]\u001b[0m\u001b[0;34m\u001b[0m\u001b[0;34m\u001b[0m\u001b[0m\n\u001b[1;32m     19\u001b[0m \u001b[0;31m# Step 7: Fill in temperature predictions based on the average between maximum and mean temperature at the corresponding hour\u001b[0m\u001b[0;34m\u001b[0m\u001b[0;34m\u001b[0m\u001b[0m\n\u001b[0;32m---> 20\u001b[0;31m \u001b[0mpredictions\u001b[0m\u001b[0;34m[\u001b[0m\u001b[0;34m'temperature'\u001b[0m\u001b[0;34m]\u001b[0m \u001b[0;34m=\u001b[0m \u001b[0;34m[\u001b[0m\u001b[0;34m(\u001b[0m\u001b[0mdata\u001b[0m\u001b[0;34m[\u001b[0m\u001b[0mdata\u001b[0m\u001b[0;34m[\u001b[0m\u001b[0;34m'hour'\u001b[0m\u001b[0;34m]\u001b[0m \u001b[0;34m==\u001b[0m \u001b[0mhour\u001b[0m\u001b[0;34m]\u001b[0m\u001b[0;34m[\u001b[0m\u001b[0;34m'AirTC'\u001b[0m\u001b[0;34m]\u001b[0m\u001b[0;34m.\u001b[0m\u001b[0mmax\u001b[0m\u001b[0;34m(\u001b[0m\u001b[0;34m)\u001b[0m \u001b[0;34m+\u001b[0m \u001b[0mdata\u001b[0m\u001b[0;34m[\u001b[0m\u001b[0mdata\u001b[0m\u001b[0;34m[\u001b[0m\u001b[0;34m'hour'\u001b[0m\u001b[0;34m]\u001b[0m \u001b[0;34m==\u001b[0m \u001b[0mhour\u001b[0m\u001b[0;34m]\u001b[0m\u001b[0;34m[\u001b[0m\u001b[0;34m'AirTC'\u001b[0m\u001b[0;34m]\u001b[0m\u001b[0;34m.\u001b[0m\u001b[0mmean\u001b[0m\u001b[0;34m(\u001b[0m\u001b[0;34m)\u001b[0m\u001b[0;34m)\u001b[0m \u001b[0;34m/\u001b[0m \u001b[0;36m2\u001b[0m \u001b[0;32mfor\u001b[0m \u001b[0mhour\u001b[0m \u001b[0;32min\u001b[0m \u001b[0mnext_hour\u001b[0m\u001b[0;34m]\u001b[0m\u001b[0;34m\u001b[0m\u001b[0;34m\u001b[0m\u001b[0m\n\u001b[0m\u001b[1;32m     21\u001b[0m \u001b[0;31m# Step 6: Create DataFrame with predictions for the next 30 days at 6-hour intervals\u001b[0m\u001b[0;34m\u001b[0m\u001b[0;34m\u001b[0m\u001b[0m\n\u001b[1;32m     22\u001b[0m \u001b[0mpredictions\u001b[0m \u001b[0;34m=\u001b[0m \u001b[0mpd\u001b[0m\u001b[0;34m.\u001b[0m\u001b[0mDataFrame\u001b[0m\u001b[0;34m(\u001b[0m\u001b[0;34m{\u001b[0m\u001b[0;34m'datetime'\u001b[0m\u001b[0;34m:\u001b[0m \u001b[0mnext_30_days\u001b[0m\u001b[0;34m[\u001b[0m\u001b[0;34m:\u001b[0m\u001b[0;34m:\u001b[0m\u001b[0;36m6\u001b[0m\u001b[0;34m]\u001b[0m\u001b[0;34m}\u001b[0m\u001b[0;34m)\u001b[0m  \u001b[0;31m# Only select every 4th datetime\u001b[0m\u001b[0;34m\u001b[0m\u001b[0;34m\u001b[0m\u001b[0m\n",
            "\u001b[0;32m/usr/local/lib/python3.10/dist-packages/pandas/core/frame.py\u001b[0m in \u001b[0;36m__getitem__\u001b[0;34m(self, key)\u001b[0m\n\u001b[1;32m   3805\u001b[0m             \u001b[0;32mif\u001b[0m \u001b[0mself\u001b[0m\u001b[0;34m.\u001b[0m\u001b[0mcolumns\u001b[0m\u001b[0;34m.\u001b[0m\u001b[0mnlevels\u001b[0m \u001b[0;34m>\u001b[0m \u001b[0;36m1\u001b[0m\u001b[0;34m:\u001b[0m\u001b[0;34m\u001b[0m\u001b[0;34m\u001b[0m\u001b[0m\n\u001b[1;32m   3806\u001b[0m                 \u001b[0;32mreturn\u001b[0m \u001b[0mself\u001b[0m\u001b[0;34m.\u001b[0m\u001b[0m_getitem_multilevel\u001b[0m\u001b[0;34m(\u001b[0m\u001b[0mkey\u001b[0m\u001b[0;34m)\u001b[0m\u001b[0;34m\u001b[0m\u001b[0;34m\u001b[0m\u001b[0m\n\u001b[0;32m-> 3807\u001b[0;31m             \u001b[0mindexer\u001b[0m \u001b[0;34m=\u001b[0m \u001b[0mself\u001b[0m\u001b[0;34m.\u001b[0m\u001b[0mcolumns\u001b[0m\u001b[0;34m.\u001b[0m\u001b[0mget_loc\u001b[0m\u001b[0;34m(\u001b[0m\u001b[0mkey\u001b[0m\u001b[0;34m)\u001b[0m\u001b[0;34m\u001b[0m\u001b[0;34m\u001b[0m\u001b[0m\n\u001b[0m\u001b[1;32m   3808\u001b[0m             \u001b[0;32mif\u001b[0m \u001b[0mis_integer\u001b[0m\u001b[0;34m(\u001b[0m\u001b[0mindexer\u001b[0m\u001b[0;34m)\u001b[0m\u001b[0;34m:\u001b[0m\u001b[0;34m\u001b[0m\u001b[0;34m\u001b[0m\u001b[0m\n\u001b[1;32m   3809\u001b[0m                 \u001b[0mindexer\u001b[0m \u001b[0;34m=\u001b[0m \u001b[0;34m[\u001b[0m\u001b[0mindexer\u001b[0m\u001b[0;34m]\u001b[0m\u001b[0;34m\u001b[0m\u001b[0;34m\u001b[0m\u001b[0m\n",
            "\u001b[0;32m/usr/local/lib/python3.10/dist-packages/pandas/core/indexes/base.py\u001b[0m in \u001b[0;36mget_loc\u001b[0;34m(self, key, method, tolerance)\u001b[0m\n\u001b[1;32m   3802\u001b[0m                 \u001b[0;32mreturn\u001b[0m \u001b[0mself\u001b[0m\u001b[0;34m.\u001b[0m\u001b[0m_engine\u001b[0m\u001b[0;34m.\u001b[0m\u001b[0mget_loc\u001b[0m\u001b[0;34m(\u001b[0m\u001b[0mcasted_key\u001b[0m\u001b[0;34m)\u001b[0m\u001b[0;34m\u001b[0m\u001b[0;34m\u001b[0m\u001b[0m\n\u001b[1;32m   3803\u001b[0m             \u001b[0;32mexcept\u001b[0m \u001b[0mKeyError\u001b[0m \u001b[0;32mas\u001b[0m \u001b[0merr\u001b[0m\u001b[0;34m:\u001b[0m\u001b[0;34m\u001b[0m\u001b[0;34m\u001b[0m\u001b[0m\n\u001b[0;32m-> 3804\u001b[0;31m                 \u001b[0;32mraise\u001b[0m \u001b[0mKeyError\u001b[0m\u001b[0;34m(\u001b[0m\u001b[0mkey\u001b[0m\u001b[0;34m)\u001b[0m \u001b[0;32mfrom\u001b[0m \u001b[0merr\u001b[0m\u001b[0;34m\u001b[0m\u001b[0;34m\u001b[0m\u001b[0m\n\u001b[0m\u001b[1;32m   3805\u001b[0m             \u001b[0;32mexcept\u001b[0m \u001b[0mTypeError\u001b[0m\u001b[0;34m:\u001b[0m\u001b[0;34m\u001b[0m\u001b[0;34m\u001b[0m\u001b[0m\n\u001b[1;32m   3806\u001b[0m                 \u001b[0;31m# If we have a listlike key, _check_indexing_error will raise\u001b[0m\u001b[0;34m\u001b[0m\u001b[0;34m\u001b[0m\u001b[0m\n",
            "\u001b[0;31mKeyError\u001b[0m: 'hour'"
          ]
        }
      ]
    },
    {
      "cell_type": "code",
      "source": [
        "\n",
        "data = pd.read_csv(\"/content/srm0002-wmu4g-_2_.csv\")\n",
        "data['Date'] = pd.to_datetime(data['Date'])\n",
        "# Group the data by date and calculate the average value\n",
        "daily_average = data.groupby(data['Date'].dt.date)['AirTC'].mean()\n",
        "\n",
        "# Print the daily average values\n",
        "print(daily_average)"
      ],
      "metadata": {
        "colab": {
          "base_uri": "https://localhost:8080/"
        },
        "id": "vtFxnC7FOS-v",
        "outputId": "2172ddb3-9810-456c-e0a2-5ee1406c3ed6"
      },
      "execution_count": 86,
      "outputs": [
        {
          "output_type": "stream",
          "name": "stdout",
          "text": [
            "Date\n",
            "2023-05-10    32.556721\n",
            "2023-05-11    30.108000\n",
            "2023-05-12    32.350244\n",
            "2023-05-13    33.135962\n",
            "2023-05-14    31.629687\n",
            "2023-05-15    34.271231\n",
            "2023-05-16    34.526951\n",
            "2023-05-17    33.335732\n",
            "2023-05-18    32.555301\n",
            "2023-05-19    32.361548\n",
            "2023-05-20    32.480952\n",
            "2023-05-21    31.945833\n",
            "2023-05-22    31.805357\n",
            "2023-05-23    30.902045\n",
            "Name: AirTC, dtype: float64\n"
          ]
        }
      ]
    },
    {
      "cell_type": "code",
      "source": [
        "import pandas as pd\n",
        "from sklearn.model_selection import train_test_split\n",
        "from xgboost import XGBRegressor\n",
        "from sklearn.metrics import mean_absolute_error, mean_squared_error, r2_score\n",
        "import numpy as np\n",
        "\n",
        "# Load the dataset into a DataFrame\n",
        "# Assuming your dataset has 'Date' and 'Temperature' columns\n",
        "dates = pd.to_datetime(data['Date'])\n",
        "temperatures = data['AirTC']\n",
        "\n",
        "# Split the data into training and testing sets\n",
        "train_dates, test_dates, train_temperatures, test_temperatures = train_test_split(dates, temperatures, test_size=0.15, random_state=42)\n",
        "\n",
        "train_X = pd.DataFrame({'Year': train_dates.dt.year,\n",
        "                        'Month': train_dates.dt.month,\n",
        "                        'Day': train_dates.dt.day})\n",
        "test_X = pd.DataFrame({'Year': test_dates.dt.year,\n",
        "                       'Month': test_dates.dt.month,\n",
        "                       'Day': test_dates.dt.day})\n",
        "\n",
        "# Create and train the XGBoost model\n",
        "model = XGBRegressor(n_estimators=100, learning_rate=0.04)\n",
        "model.fit(train_X, train_temperatures)\n",
        "\n",
        "# Predict the temperatures for the test set and next 15 days\n",
        "test_predictions = model.predict(test_X)\n",
        "next_predictions = model.predict(next_X)\n",
        "\n",
        "# Calculate metrics for the test set\n",
        "mse = mean_squared_error(test_temperatures, test_predictions)\n",
        "rmse = np.sqrt(mse)\n",
        "r2 = r2_score(test_temperatures, test_predictions)\n",
        "\n",
        "print(\"Test Set Metrics:\")\n",
        "print(\"MSE: \", mse)\n",
        "print(\"RMSE: \", rmse)\n",
        "print(\"R2 Score: \", r2)\n",
        "true values = []\n",
        "# Calculate metrics for the next 15 days (replace true_values with actual temperature values)\n",
        "next_mse = mean_squared_error(true_values, next_predictions)\n",
        "next_rmse = np.sqrt(next_mse)\n",
        "next_r2 = r2_score(true_values, next_predictions)\n",
        "\n",
        "print(\"Next 15 Days Metrics:\")\n",
        "print(\"MSE: \", next_mse)\n",
        "print(\"RMSE: \", next_rmse)\n",
        "print(\"R2 Score: \", next_r2)\n"
      ],
      "metadata": {
        "colab": {
          "base_uri": "https://localhost:8080/",
          "height": 335
        },
        "id": "K-M18okTaopm",
        "outputId": "9123a78f-8a96-498e-e2a1-6cfb2b654dad"
      },
      "execution_count": 105,
      "outputs": [
        {
          "output_type": "stream",
          "name": "stdout",
          "text": [
            "Test Set Metrics:\n",
            "MSE:  16.29503435221752\n",
            "RMSE:  4.036710833366383\n",
            "R2 Score:  0.07310677229558538\n"
          ]
        },
        {
          "output_type": "error",
          "ename": "NameError",
          "evalue": "ignored",
          "traceback": [
            "\u001b[0;31m---------------------------------------------------------------------------\u001b[0m",
            "\u001b[0;31mNameError\u001b[0m                                 Traceback (most recent call last)",
            "\u001b[0;32m<ipython-input-105-8a425e93ad10>\u001b[0m in \u001b[0;36m<cell line: 41>\u001b[0;34m()\u001b[0m\n\u001b[1;32m     39\u001b[0m \u001b[0;34m\u001b[0m\u001b[0m\n\u001b[1;32m     40\u001b[0m \u001b[0;31m# Calculate metrics for the next 15 days (replace true_values with actual temperature values)\u001b[0m\u001b[0;34m\u001b[0m\u001b[0;34m\u001b[0m\u001b[0m\n\u001b[0;32m---> 41\u001b[0;31m \u001b[0mnext_mse\u001b[0m \u001b[0;34m=\u001b[0m \u001b[0mmean_squared_error\u001b[0m\u001b[0;34m(\u001b[0m\u001b[0mtrue_values\u001b[0m\u001b[0;34m,\u001b[0m \u001b[0mnext_predictions\u001b[0m\u001b[0;34m)\u001b[0m\u001b[0;34m\u001b[0m\u001b[0;34m\u001b[0m\u001b[0m\n\u001b[0m\u001b[1;32m     42\u001b[0m \u001b[0mnext_rmse\u001b[0m \u001b[0;34m=\u001b[0m \u001b[0mnp\u001b[0m\u001b[0;34m.\u001b[0m\u001b[0msqrt\u001b[0m\u001b[0;34m(\u001b[0m\u001b[0mnext_mse\u001b[0m\u001b[0;34m)\u001b[0m\u001b[0;34m\u001b[0m\u001b[0;34m\u001b[0m\u001b[0m\n\u001b[1;32m     43\u001b[0m \u001b[0mnext_r2\u001b[0m \u001b[0;34m=\u001b[0m \u001b[0mr2_score\u001b[0m\u001b[0;34m(\u001b[0m\u001b[0mtrue_values\u001b[0m\u001b[0;34m,\u001b[0m \u001b[0mnext_predictions\u001b[0m\u001b[0;34m)\u001b[0m\u001b[0;34m\u001b[0m\u001b[0;34m\u001b[0m\u001b[0m\n",
            "\u001b[0;31mNameError\u001b[0m: name 'true_values' is not defined"
          ]
        }
      ]
    }
  ]
}